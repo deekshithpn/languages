{
 "cells": [
  {
   "cell_type": "markdown",
   "id": "42e4166c",
   "metadata": {},
   "source": [
    "#### What are libraries and modules ?\n",
    "- In Python, a module is a file containing Python code. It can define functions, classes, variables, and other objects that can be used in your Python programs."
   ]
  },
  {
   "cell_type": "markdown",
   "id": "e9ecfcf9",
   "metadata": {},
   "source": [
    "- Note that, in libraries such data sets are also available.\n",
    "\n",
    "#### Iris data set.\n",
    "- Generally used in practising machine learning algorithms.\n",
    "- Each data has 4 columns, with each column representing sepal length , sepal width , petal length and petal width respectively\n",
    "- Study the following code to acquat ur self with similar situations."
   ]
  },
  {
   "cell_type": "code",
   "execution_count": 2,
   "id": "3e68929c",
   "metadata": {},
   "outputs": [],
   "source": [
    "# To load the following import the data set\n",
    "\n",
    "from sklearn.datasets import load_iris\n",
    "# note that there are other data-sets as well.\n",
    "\n",
    "iris_data = load_iris()"
   ]
  },
  {
   "cell_type": "code",
   "execution_count": null,
   "id": "e3c0b81d",
   "metadata": {},
   "outputs": [],
   "source": []
  },
  {
   "cell_type": "code",
   "execution_count": null,
   "id": "6076a00f",
   "metadata": {},
   "outputs": [],
   "source": []
  }
 ],
 "metadata": {
  "kernelspec": {
   "display_name": "Python 3 (ipykernel)",
   "language": "python",
   "name": "python3"
  },
  "language_info": {
   "codemirror_mode": {
    "name": "ipython",
    "version": 3
   },
   "file_extension": ".py",
   "mimetype": "text/x-python",
   "name": "python",
   "nbconvert_exporter": "python",
   "pygments_lexer": "ipython3",
   "version": "3.10.6"
  }
 },
 "nbformat": 4,
 "nbformat_minor": 5
}
