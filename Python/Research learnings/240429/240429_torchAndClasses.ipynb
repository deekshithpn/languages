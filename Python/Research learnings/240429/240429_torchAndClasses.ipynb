{
 "cells": [
  {
   "cell_type": "markdown",
   "id": "8578d1fc",
   "metadata": {},
   "source": [
    "# tensors\n",
    "\n",
    "### Initializing a tensor"
   ]
  },
  {
   "cell_type": "code",
   "execution_count": 18,
   "id": "989aa362",
   "metadata": {},
   "outputs": [],
   "source": [
    "import torch\n",
    "import numpy as np\n",
    "\n",
    "xNumpyArray1 = np.array([[1,3,5],[2,4,6]])\n",
    "xNumpyArray2 = np.array([[1.5,3,5.5],[2.7,4,6.7]])\n",
    "xTensor1 = torch.tensor(xNumpyArray1)\n",
    "xTensor2 = torch.tensor(xNumpyArray2)"
   ]
  },
  {
   "cell_type": "code",
   "execution_count": 22,
   "id": "e7ebe8a8",
   "metadata": {},
   "outputs": [
    {
     "data": {
      "text/plain": [
       "tensor([[1.5000, 3.0000, 5.5000],\n",
       "        [2.7000, 4.0000, 6.7000]], dtype=torch.float64)"
      ]
     },
     "execution_count": 22,
     "metadata": {},
     "output_type": "execute_result"
    }
   ],
   "source": [
    "xTensor2"
   ]
  },
  {
   "cell_type": "code",
   "execution_count": 20,
   "id": "1bbeac9f",
   "metadata": {},
   "outputs": [
    {
     "data": {
      "text/plain": [
       "tensor([[1, 3, 5],\n",
       "        [2, 4, 6]])"
      ]
     },
     "execution_count": 20,
     "metadata": {},
     "output_type": "execute_result"
    }
   ],
   "source": [
    "xTensor1"
   ]
  },
  {
   "cell_type": "markdown",
   "id": "cec459f2",
   "metadata": {},
   "source": [
    "We know that the data type of a variable can be found by  \n",
    "- `type(variableName)`  \n",
    "**But what would happen if we use it on a tensor?**"
   ]
  },
  {
   "cell_type": "code",
   "execution_count": 13,
   "id": "94b52c3e",
   "metadata": {},
   "outputs": [
    {
     "data": {
      "text/plain": [
       "torch.Tensor"
      ]
     },
     "execution_count": 13,
     "metadata": {},
     "output_type": "execute_result"
    }
   ],
   "source": [
    "type(xTensor1)"
   ]
  },
  {
   "cell_type": "markdown",
   "id": "8293163e",
   "metadata": {},
   "source": [
    "- The above happens because torch.tensor itself is a dataype.\n",
    "- To find the data type of elements in a tensor we use the following syntax  \n",
    "    - **SYNTAX**\n",
    "        - `tensorVariable.dtype`"
   ]
  },
  {
   "cell_type": "code",
   "execution_count": 15,
   "id": "c66c4bee",
   "metadata": {},
   "outputs": [
    {
     "data": {
      "text/plain": [
       "torch.int64"
      ]
     },
     "execution_count": 15,
     "metadata": {},
     "output_type": "execute_result"
    }
   ],
   "source": [
    "xTensor1.dtype"
   ]
  },
  {
   "cell_type": "markdown",
   "id": "62885d11",
   "metadata": {},
   "source": [
    "**How do we define tensors of a particular datatype?**\n",
    "- **SYNTAX**\n",
    "    - `tensorVariable = torch.tensor(tensorValue,dtype=torch.float64)`\n",
    "    - instead of torch.float64 we could have had\n",
    "        - torch.int32\n",
    "        - torch.int64\n",
    "        - torch.float32\n",
    "        - torch.boolean \n",
    "        \n",
    " We observe from earlier that xTensor1 is a int64 data type. we will define xTensor3 which will have a datatype of float32 as follows:"
   ]
  },
  {
   "cell_type": "code",
   "execution_count": 30,
   "id": "517f1162",
   "metadata": {},
   "outputs": [
    {
     "data": {
      "text/plain": [
       "tensor([[1., 3., 5.],\n",
       "        [2., 4., 6.]])"
      ]
     },
     "execution_count": 30,
     "metadata": {},
     "output_type": "execute_result"
    }
   ],
   "source": [
    "xTensor3 = torch.tensor(xNumpyArray1,dtype=torch.float32)\n",
    "xTensor3"
   ]
  },
  {
   "cell_type": "code",
   "execution_count": 31,
   "id": "61445cd3",
   "metadata": {},
   "outputs": [
    {
     "data": {
      "text/plain": [
       "torch.float32"
      ]
     },
     "execution_count": 31,
     "metadata": {},
     "output_type": "execute_result"
    }
   ],
   "source": [
    "xTensor3.dtype"
   ]
  },
  {
   "cell_type": "markdown",
   "id": "13662e0e",
   "metadata": {},
   "source": [
    "**note** If we dont define a datatype\n",
    "- If all the elements in a tensor are integers by default we will have an int64 type.\n",
    "- if all the elements in a tensor are floats by default we will have a float64 type"
   ]
  },
  {
   "cell_type": "code",
   "execution_count": 28,
   "id": "5024709c",
   "metadata": {},
   "outputs": [
    {
     "data": {
      "text/plain": [
       "torch.float64"
      ]
     },
     "execution_count": 28,
     "metadata": {},
     "output_type": "execute_result"
    }
   ],
   "source": [
    "xTensor2.dtype"
   ]
  },
  {
   "cell_type": "code",
   "execution_count": 27,
   "id": "5e060299",
   "metadata": {},
   "outputs": [
    {
     "data": {
      "text/plain": [
       "torch.int64"
      ]
     },
     "execution_count": 27,
     "metadata": {},
     "output_type": "execute_result"
    }
   ],
   "source": [
    "xTensor1.dtype"
   ]
  },
  {
   "cell_type": "markdown",
   "id": "49479006",
   "metadata": {},
   "source": [
    "#### Changing the data type.\n",
    "\n",
    "**Say we have a tensor, how are we going to modify the data type?**\n",
    "\n",
    "There are 2 methods:\n",
    "- **to** method\n",
    "    - **SYNTAX**\n",
    "        - `new_Tensor = old_Tensor.to(tensor_data_type)`\n",
    "- **type** method \n",
    "    - **SYNTAX**\n",
    "        - `new_Tensor = old_Tensor.type(tensor_data_type)`\n",
    "        \n",
    "- **!! CAUTION  !!**\n",
    "    - **old_Tensor.type(tensor_data_type)** is different from **type(variable_Name)**\n",
    "    - The prior changes the data type, the later gives the data type of the variable.\n",
    "        \n",
    "Let us create\n",
    "- xTensor4 which is a flot.64 from xTensor3 which is already of type float.32 as we defined previously.\n",
    "    - Using **to** menthod\n",
    "- xTensor5 which is an int32 from xTensor2 which is already of type float64 as we defined previously.\n",
    "    - Using **type** method"
   ]
  },
  {
   "cell_type": "code",
   "execution_count": 35,
   "id": "384751c7",
   "metadata": {},
   "outputs": [
    {
     "data": {
      "text/plain": [
       "torch.float64"
      ]
     },
     "execution_count": 35,
     "metadata": {},
     "output_type": "execute_result"
    }
   ],
   "source": [
    "xTensor4 = xTensor3.to(torch.float64)\n",
    "xTensor4.dtype"
   ]
  },
  {
   "cell_type": "code",
   "execution_count": 36,
   "id": "90b73d05",
   "metadata": {},
   "outputs": [
    {
     "data": {
      "text/plain": [
       "torch.int32"
      ]
     },
     "execution_count": 36,
     "metadata": {},
     "output_type": "execute_result"
    }
   ],
   "source": [
    "xTensor5 = xTensor3.to(torch.int32)\n",
    "xTensor5.dtype"
   ]
  },
  {
   "cell_type": "code",
   "execution_count": 37,
   "id": "008d9658",
   "metadata": {},
   "outputs": [
    {
     "data": {
      "text/plain": [
       "tensor([[1, 3, 5],\n",
       "        [2, 4, 6]], dtype=torch.int32)"
      ]
     },
     "execution_count": 37,
     "metadata": {},
     "output_type": "execute_result"
    }
   ],
   "source": [
    "xTensor5"
   ]
  },
  {
   "cell_type": "markdown",
   "id": "171ef1ac",
   "metadata": {},
   "source": [
    "**@@ NOTE @@:** \n",
    "\n",
    "**IMMUTABILITY OF PyTORCH TENSORS**\n",
    "\n",
    "old_Tensor = old_Tensor.to(torch.int64)\n",
    "\n",
    "When you use old_Tensor.to(torch.int64) to change the data type of a tensor, it appears as though you're modifying the original tensor in place, but what's actually happening is that you're creating a new tensor with the desired data type and assigning it to the same variable name (old_Tensor). The original tensor still exists in memory, but the variable tensor now points to the new tensor with the updated data type. So, in effect, the operation old_Tensor.to(torch.int64) does not change the original old_Tensor in place; it creates a new old_Tensor and assigns it to the same variable. This behavior is consistent with the immutability of tensors in PyTorch. It might seem like you're modifying the original tensor because you're using the same variable name, but in reality, you're creating a new tensor object. This behavior ensures that operations on tensors do not inadvertently modify existing data, which can help prevent bugs and unexpected behavior in your code.\n",
    "\n"
   ]
  },
  {
   "cell_type": "markdown",
   "id": "1f321c42",
   "metadata": {},
   "source": [
    "# Classes:\n",
    "\n",
    "Let us define a student class with student id, name, gender as inputs."
   ]
  },
  {
   "cell_type": "code",
   "execution_count": 38,
   "id": "4f4f3d27",
   "metadata": {},
   "outputs": [],
   "source": [
    "class Student():\n",
    "    def __init__(self,i,n,g):\n",
    "        self.sid = i\n",
    "        self.name = n\n",
    "        self.gender = g\n",
    "        \n",
    "    def say_name(self):\n",
    "        print(f\"My name is {self.name}\")\n",
    "    \n",
    "    "
   ]
  },
  {
   "cell_type": "code",
   "execution_count": 45,
   "id": "b111454f",
   "metadata": {},
   "outputs": [],
   "source": [
    "studentDetails1 = Student(10, \"Deekshiht\", \"M\")"
   ]
  },
  {
   "cell_type": "code",
   "execution_count": 43,
   "id": "727ba253",
   "metadata": {},
   "outputs": [
    {
     "name": "stdout",
     "output_type": "stream",
     "text": [
      "My name is Deekshiht\n"
     ]
    }
   ],
   "source": [
    "studentDetails1.say_name()"
   ]
  },
  {
   "cell_type": "code",
   "execution_count": 47,
   "id": "ca54980d",
   "metadata": {},
   "outputs": [],
   "source": [
    "data={}\n",
    "data[\"x\"]=23.5\n",
    "data[\"y\"]=42"
   ]
  },
  {
   "cell_type": "code",
   "execution_count": 48,
   "id": "49859176",
   "metadata": {},
   "outputs": [
    {
     "data": {
      "text/plain": [
       "{'x': 23.5, 'y': 42}"
      ]
     },
     "execution_count": 48,
     "metadata": {},
     "output_type": "execute_result"
    }
   ],
   "source": [
    "class IStudent"
   ]
  },
  {
   "cell_type": "code",
   "execution_count": null,
   "id": "afbd99de",
   "metadata": {},
   "outputs": [],
   "source": []
  }
 ],
 "metadata": {
  "kernelspec": {
   "display_name": "Python 3 (ipykernel)",
   "language": "python",
   "name": "python3"
  },
  "language_info": {
   "codemirror_mode": {
    "name": "ipython",
    "version": 3
   },
   "file_extension": ".py",
   "mimetype": "text/x-python",
   "name": "python",
   "nbconvert_exporter": "python",
   "pygments_lexer": "ipython3",
   "version": "3.10.6"
  }
 },
 "nbformat": 4,
 "nbformat_minor": 5
}
