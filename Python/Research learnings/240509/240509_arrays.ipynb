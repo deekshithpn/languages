{
 "cells": [
  {
   "cell_type": "markdown",
   "id": "e821de4f",
   "metadata": {},
   "source": [
    "# Arrays\n",
    "\n",
    "## Numpy arrays.\n",
    "\n",
    "### Declaring arrays of specific data type.\n",
    "- **SYNTAX**\n",
    "    - `array_name = np.array(dict_name, dtype=np.data_type)`\n",
    "- Lets define an array from a dictionary whose elements are flaoting point numbers but give the array a data type of int32.\n"
   ]
  },
  {
   "cell_type": "code",
   "execution_count": 4,
   "id": "200fd489",
   "metadata": {},
   "outputs": [
    {
     "name": "stdout",
     "output_type": "stream",
     "text": [
      "array1 =  [1 2 6 1]\n"
     ]
    }
   ],
   "source": [
    "import numpy as np\n",
    "\n",
    "dict1 = [1.1,2.4,6.5,1.99]\n",
    "array1 = np.array(dict1,dtype = np.int32)\n",
    "print(f\"array1 = \", array1 )"
   ]
  },
  {
   "cell_type": "markdown",
   "id": "60adc6b4",
   "metadata": {},
   "source": [
    "Note that we get the fraction part removed."
   ]
  },
  {
   "cell_type": "markdown",
   "id": "aa237ae2",
   "metadata": {},
   "source": [
    "###  (Review) Checking the data tpe of any object"
   ]
  },
  {
   "cell_type": "code",
   "execution_count": 5,
   "id": "99401895",
   "metadata": {},
   "outputs": [
    {
     "data": {
      "text/plain": [
       "numpy.ndarray"
      ]
     },
     "execution_count": 5,
     "metadata": {},
     "output_type": "execute_result"
    }
   ],
   "source": [
    "type(array1)"
   ]
  },
  {
   "cell_type": "markdown",
   "id": "a0bc78f7",
   "metadata": {},
   "source": [
    "### Changing the datatype of an array\n",
    "- **SYNTAX**\n",
    "    - `new_array = old_array.astype(np.new_data_type)`\n",
    "- *EXAMPLE*\n",
    "    - Lets us change the data type of array1 to float32 and save it as array2."
   ]
  },
  {
   "cell_type": "code",
   "execution_count": 7,
   "id": "a8635d32",
   "metadata": {},
   "outputs": [
    {
     "name": "stdout",
     "output_type": "stream",
     "text": [
      "array2 =  [1. 2. 6. 1.]\n"
     ]
    }
   ],
   "source": [
    "array2 = array1.astype(np.float32)\n",
    "print(f\"array2 = \", array2)"
   ]
  },
  {
   "cell_type": "markdown",
   "id": "01a41154",
   "metadata": {},
   "source": [
    "### Deleting elements of an array\n",
    "- **SYNTAX**\n",
    "    - `new_array = np.delete(old_array,index)`\n",
    "- *EXAMPLE*\n",
    "    - Lets delete 2nd element in the array 2 we created to produce array 3."
   ]
  },
  {
   "cell_type": "code",
   "execution_count": 25,
   "id": "4ad4048e",
   "metadata": {},
   "outputs": [
    {
     "name": "stdout",
     "output_type": "stream",
     "text": [
      "array2 =  [1. 2. 6. 1.]\n",
      "array2 with element in index 1 and the last element \n",
      " removed is  [1. 6.]\n"
     ]
    }
   ],
   "source": [
    "array3 = np.delete(array2,[1,-1])\n",
    "print(f\"array2 = \", array2)\n",
    "print(f\"array2 with element in index 1 and the last element \\n removed is \",array3)"
   ]
  },
  {
   "cell_type": "markdown",
   "id": "6cec1101",
   "metadata": {},
   "source": [
    "### FInding index of an element in an array\n",
    "- **SYNTAX**\n",
    "    - `index = np.where(array_name== number)`\n",
    "- *EXAMPLE*\n",
    "    - Let us find out the index of 1 in the array2."
   ]
  },
  {
   "cell_type": "code",
   "execution_count": 29,
   "id": "c1eae8b3",
   "metadata": {},
   "outputs": [
    {
     "name": "stdout",
     "output_type": "stream",
     "text": [
      "array1 is  [1 2 6 1]\n",
      "indices of 1s in array1 are (array([0, 3]),)\n"
     ]
    }
   ],
   "source": [
    "index_of_1 = np.where(array1==1)\n",
    "print(f\"array1 is \", array1)\n",
    "print(f\"indices of 1s in array1 are\",index_of_1)"
   ]
  },
  {
   "cell_type": "markdown",
   "id": "093e7ece",
   "metadata": {},
   "source": [
    "### Increasing dimension of an array\n",
    "- **SYNTAX**\n",
    "    - `new_array = arr[old_array,axis=axis_number] `\n",
    "- *EXAMPLE*\n",
    "    - Let us make a 2d array and see how adding new dimension works."
   ]
  },
  {
   "cell_type": "code",
   "execution_count": 54,
   "id": "efe2b358",
   "metadata": {},
   "outputs": [
    {
     "name": "stdout",
     "output_type": "stream",
     "text": [
      "Original array shape: (3, 3)\n",
      "3D array shape: (3, 3, 1)\n",
      "2D array:\n",
      " [[[1]\n",
      "  [2]\n",
      "  [3]]\n",
      "\n",
      " [[4]\n",
      "  [5]\n",
      "  [6]]\n",
      "\n",
      " [[7]\n",
      "  [8]\n",
      "  [9]]]\n"
     ]
    }
   ],
   "source": [
    "# Create a 1D array\n",
    "arr_2d = np.array([[1, 2, 3],\n",
    "                   [4, 5, 6],\n",
    "                   [7, 8, 9]])\n",
    "\n",
    "# Add a new axis to convert it to a 2D array with a single column\n",
    "arr_3d = np.expand_dims(arr_1d, axis=2)\n",
    "\n",
    "print(\"Original array shape:\", arr_2d.shape)\n",
    "print(\"3D array shape:\", arr_3d.shape)\n",
    "print(\"2D array:\\n\", arr_3d)\n"
   ]
  },
  {
   "cell_type": "code",
   "execution_count": 55,
   "id": "98678416",
   "metadata": {},
   "outputs": [
    {
     "data": {
      "text/plain": [
       "array([[[1, 2, 3],\n",
       "        [4, 5, 6],\n",
       "        [7, 8, 9]]])"
      ]
     },
     "execution_count": 55,
     "metadata": {},
     "output_type": "execute_result"
    }
   ],
   "source": [
    "np.expand_dims(arr_1d, axis=0)"
   ]
  },
  {
   "cell_type": "code",
   "execution_count": 56,
   "id": "2cf614fa",
   "metadata": {},
   "outputs": [
    {
     "data": {
      "text/plain": [
       "array([[[1, 2, 3]],\n",
       "\n",
       "       [[4, 5, 6]],\n",
       "\n",
       "       [[7, 8, 9]]])"
      ]
     },
     "execution_count": 56,
     "metadata": {},
     "output_type": "execute_result"
    }
   ],
   "source": [
    "np.expand_dims(arr_1d, axis=1)"
   ]
  },
  {
   "cell_type": "markdown",
   "id": "b13c37c7",
   "metadata": {},
   "source": [
    "## (REVIEW) Tensor:\n",
    "### Declaring tensors\n",
    "- *Example*\n",
    "    - Lets create a tensor from dict1 qwith float64 datatype. "
   ]
  },
  {
   "cell_type": "code",
   "execution_count": 30,
   "id": "7892b18e",
   "metadata": {},
   "outputs": [
    {
     "name": "stdout",
     "output_type": "stream",
     "text": [
      "tensor1= tensor([1.1000, 2.4000, 6.5000, 1.9900], dtype=torch.float64)\n"
     ]
    }
   ],
   "source": [
    "import torch\n",
    "tensor1 = torch.tensor(dict1, dtype = torch.float64)\n",
    "print(f\"tensor1=\",tensor1)"
   ]
  },
  {
   "cell_type": "markdown",
   "id": "d4d4b7c0",
   "metadata": {},
   "source": [
    "### Changing tensor data type using 2 methods\n",
    "- torch.type method\n",
    "- torch.to method\n",
    "    - *EXAMPLE*\n",
    "        - Lets change the data type of tensor1 using both the methods to int32. We will create tensor2 from tensor1 using type method, and tensor3 using to method.ensor"
   ]
  },
  {
   "cell_type": "code",
   "execution_count": 15,
   "id": "8791d014",
   "metadata": {},
   "outputs": [
    {
     "name": "stdout",
     "output_type": "stream",
     "text": [
      "Using type method tensor2 is tensor([1, 2, 6, 1], dtype=torch.int32)\n"
     ]
    }
   ],
   "source": [
    "tensor2 = tensor1.type(torch.int32)\n",
    "print(f\"Using type method tensor2 is\",tensor2)"
   ]
  },
  {
   "cell_type": "code",
   "execution_count": 16,
   "id": "d4d7c400",
   "metadata": {},
   "outputs": [
    {
     "name": "stdout",
     "output_type": "stream",
     "text": [
      "Using type method tensor3 is tensor([1, 2, 6, 1], dtype=torch.int32)\n"
     ]
    }
   ],
   "source": [
    "tensor3 = tensor1.to(torch.int32)\n",
    "print(f\"Using type method tensor3 is\",tensor3)"
   ]
  },
  {
   "cell_type": "code",
   "execution_count": null,
   "id": "a63c3f55",
   "metadata": {},
   "outputs": [],
   "source": []
  }
 ],
 "metadata": {
  "kernelspec": {
   "display_name": "Python 3 (ipykernel)",
   "language": "python",
   "name": "python3"
  },
  "language_info": {
   "codemirror_mode": {
    "name": "ipython",
    "version": 3
   },
   "file_extension": ".py",
   "mimetype": "text/x-python",
   "name": "python",
   "nbconvert_exporter": "python",
   "pygments_lexer": "ipython3",
   "version": "3.10.6"
  }
 },
 "nbformat": 4,
 "nbformat_minor": 5
}
