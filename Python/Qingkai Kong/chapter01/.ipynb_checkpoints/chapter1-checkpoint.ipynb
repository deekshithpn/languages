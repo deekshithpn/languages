{
 "cells": [
  {
   "cell_type": "markdown",
   "id": "ff2352c7",
   "metadata": {},
   "source": [
    "# Chapter 1\n",
    "\n",
    "## Basics of Jupyter Notebook\n",
    "\n",
    "- Juptyter notebook address \n",
    "> **http:/localhost:8888**\n",
    "\n",
    "## 1.2 Python as Calculator\n",
    "- **Arithmetic Operator**\n",
    "    - \"+\" Addition\n",
    "    - \"-\" Subtraction\n",
    "    - \"*\" Multiplication\n",
    "    - \"/\" Division\n",
    "    - \"**\" Exponent"
   ]
  },
  {
   "cell_type": "code",
   "execution_count": 1,
   "id": "35f2d55c",
   "metadata": {},
   "outputs": [
    {
     "data": {
      "text/plain": [
       "3"
      ]
     },
     "execution_count": 1,
     "metadata": {},
     "output_type": "execute_result"
    }
   ],
   "source": [
    "1+2"
   ]
  },
  {
   "cell_type": "markdown",
   "id": "27b438a6",
   "metadata": {},
   "source": [
    "**Order of Operations**  \n",
    "Exponent > Multiplication and division > addition and subtraction"
   ]
  },
  {
   "cell_type": "code",
   "execution_count": 2,
   "id": "6c412973",
   "metadata": {},
   "outputs": [
    {
     "data": {
      "text/plain": [
       "2.0"
      ]
     },
     "execution_count": 2,
     "metadata": {},
     "output_type": "execute_result"
    }
   ],
   "source": [
    "3*4/(2**2+4/2)"
   ]
  },
  {
   "cell_type": "markdown",
   "id": "360614c2",
   "metadata": {},
   "source": [
    "**Usage Of Underscore \"_\"**"
   ]
  },
  {
   "cell_type": "code",
   "execution_count": 3,
   "id": "27838922",
   "metadata": {},
   "outputs": [
    {
     "data": {
      "text/plain": [
       "3.375"
      ]
     },
     "execution_count": 3,
     "metadata": {},
     "output_type": "execute_result"
    }
   ],
   "source": [
    "(3/4*2)**3"
   ]
  },
  {
   "cell_type": "markdown",
   "id": "8fd56976",
   "metadata": {},
   "source": [
    "The above computation is same as below"
   ]
  },
  {
   "cell_type": "code",
   "execution_count": 4,
   "id": "3d2b69e5",
   "metadata": {},
   "outputs": [
    {
     "data": {
      "text/plain": [
       "0.75"
      ]
     },
     "execution_count": 4,
     "metadata": {},
     "output_type": "execute_result"
    }
   ],
   "source": [
    "3/4"
   ]
  },
  {
   "cell_type": "code",
   "execution_count": 5,
   "id": "25b0ed6c",
   "metadata": {},
   "outputs": [
    {
     "data": {
      "text/plain": [
       "1.5"
      ]
     },
     "execution_count": 5,
     "metadata": {},
     "output_type": "execute_result"
    }
   ],
   "source": [
    "_*2"
   ]
  },
  {
   "cell_type": "code",
   "execution_count": 6,
   "id": "e41e5f56",
   "metadata": {},
   "outputs": [
    {
     "data": {
      "text/plain": [
       "3.375"
      ]
     },
     "execution_count": 6,
     "metadata": {},
     "output_type": "execute_result"
    }
   ],
   "source": [
    "_**3"
   ]
  },
  {
   "cell_type": "markdown",
   "id": "a98b2ba3",
   "metadata": {},
   "source": [
    "Note that underscore acts like a ans in calculator."
   ]
  },
  {
   "cell_type": "markdown",
   "id": "c9599de5",
   "metadata": {},
   "source": [
    "### math module\n",
    "**tab completion** is available in ipython and jupyter notebook.\n",
    "- **examples** math.sin(), math.pi, math.asin() etc\n",
    "- **how to use log base 10?**\n",
    "    - math.log10"
   ]
  },
  {
   "cell_type": "code",
   "execution_count": 7,
   "id": "e99f744b",
   "metadata": {},
   "outputs": [],
   "source": [
    "import math"
   ]
  },
  {
   "cell_type": "code",
   "execution_count": 8,
   "id": "96af4b50",
   "metadata": {},
   "outputs": [
    {
     "data": {
      "text/plain": [
       "2.0"
      ]
     },
     "execution_count": 8,
     "metadata": {},
     "output_type": "execute_result"
    }
   ],
   "source": [
    "math.sqrt(4)"
   ]
  },
  {
   "cell_type": "code",
   "execution_count": 9,
   "id": "0c62ed3b",
   "metadata": {},
   "outputs": [
    {
     "data": {
      "text/plain": [
       "1.0"
      ]
     },
     "execution_count": 9,
     "metadata": {},
     "output_type": "execute_result"
    }
   ],
   "source": [
    "math.sin(math.pi/2)"
   ]
  },
  {
   "cell_type": "code",
   "execution_count": 11,
   "id": "90c2ea47",
   "metadata": {},
   "outputs": [
    {
     "data": {
      "text/plain": [
       "10.000000000000002"
      ]
     },
     "execution_count": 11,
     "metadata": {},
     "output_type": "execute_result"
    }
   ],
   "source": [
    "math.exp(math.log(10))"
   ]
  },
  {
   "cell_type": "markdown",
   "id": "2b4ba4aa",
   "metadata": {},
   "source": [
    "> **This should have been 10, but we got some value. note this is cause of approximation**"
   ]
  },
  {
   "cell_type": "code",
   "execution_count": 12,
   "id": "e77c4175",
   "metadata": {},
   "outputs": [
    {
     "data": {
      "text/plain": [
       "2.117000016612675"
      ]
     },
     "execution_count": 12,
     "metadata": {},
     "output_type": "execute_result"
    }
   ],
   "source": [
    "math.exp(3/4)"
   ]
  },
  {
   "cell_type": "markdown",
   "id": "e781a752",
   "metadata": {},
   "source": [
    "### The Question mark -help\n",
    "- **Syntax**\n",
    "    - **function_name?**"
   ]
  },
  {
   "cell_type": "code",
   "execution_count": 13,
   "id": "133fb27f",
   "metadata": {},
   "outputs": [],
   "source": [
    "math.factorial?"
   ]
  },
  {
   "cell_type": "markdown",
   "id": "ce5c7c2e",
   "metadata": {},
   "source": [
    "### Zero division error\n",
    "- occurs when dividing by 0."
   ]
  },
  {
   "cell_type": "code",
   "execution_count": 15,
   "id": "7bb9a8dd",
   "metadata": {},
   "outputs": [
    {
     "ename": "ZeroDivisionError",
     "evalue": "division by zero",
     "output_type": "error",
     "traceback": [
      "\u001b[0;31m---------------------------------------------------------------------------\u001b[0m",
      "\u001b[0;31mZeroDivisionError\u001b[0m                         Traceback (most recent call last)",
      "Cell \u001b[0;32mIn[15], line 1\u001b[0m\n\u001b[0;32m----> 1\u001b[0m \u001b[38;5;241;43m1\u001b[39;49m\u001b[38;5;241;43m/\u001b[39;49m\u001b[38;5;241;43m0\u001b[39;49m\n",
      "\u001b[0;31mZeroDivisionError\u001b[0m: division by zero"
     ]
    }
   ],
   "source": [
    "1/0"
   ]
  },
  {
   "cell_type": "markdown",
   "id": "117e3db3",
   "metadata": {},
   "source": [
    "### infinity and nan values\n",
    "- **math.inf**\n",
    "- **math.nan**"
   ]
  },
  {
   "cell_type": "code",
   "execution_count": 16,
   "id": "0b1925a7",
   "metadata": {},
   "outputs": [
    {
     "data": {
      "text/plain": [
       "0.0"
      ]
     },
     "execution_count": 16,
     "metadata": {},
     "output_type": "execute_result"
    }
   ],
   "source": [
    "1/math.inf"
   ]
  },
  {
   "cell_type": "code",
   "execution_count": 17,
   "id": "f583e189",
   "metadata": {},
   "outputs": [
    {
     "data": {
      "text/plain": [
       "inf"
      ]
     },
     "execution_count": 17,
     "metadata": {},
     "output_type": "execute_result"
    }
   ],
   "source": [
    "2*math.inf"
   ]
  },
  {
   "cell_type": "code",
   "execution_count": 18,
   "id": "69e55eb1",
   "metadata": {},
   "outputs": [
    {
     "data": {
      "text/plain": [
       "nan"
      ]
     },
     "execution_count": 18,
     "metadata": {},
     "output_type": "execute_result"
    }
   ],
   "source": [
    "math.nan*2"
   ]
  },
  {
   "cell_type": "code",
   "execution_count": 19,
   "id": "add9d0d5",
   "metadata": {},
   "outputs": [
    {
     "data": {
      "text/plain": [
       "nan"
      ]
     },
     "execution_count": 19,
     "metadata": {},
     "output_type": "execute_result"
    }
   ],
   "source": [
    "math.inf/math.inf"
   ]
  },
  {
   "cell_type": "markdown",
   "id": "d1dd7ef7",
   "metadata": {},
   "source": [
    "### Complex numbers\n",
    "- **Syntax1:**\n",
    "    - **3 + 5j**\n",
    "- **Syntax2:**\n",
    "    - **complex(3,5)**"
   ]
  },
  {
   "cell_type": "code",
   "execution_count": 20,
   "id": "79d9aee6",
   "metadata": {},
   "outputs": [
    {
     "data": {
      "text/plain": [
       "(2+5j)"
      ]
     },
     "execution_count": 20,
     "metadata": {},
     "output_type": "execute_result"
    }
   ],
   "source": [
    "2+5j"
   ]
  },
  {
   "cell_type": "code",
   "execution_count": 21,
   "id": "398905ba",
   "metadata": {},
   "outputs": [
    {
     "data": {
      "text/plain": [
       "(2+5j)"
      ]
     },
     "execution_count": 21,
     "metadata": {},
     "output_type": "execute_result"
    }
   ],
   "source": [
    "complex(2,5)"
   ]
  },
  {
   "cell_type": "markdown",
   "id": "78a17db8",
   "metadata": {},
   "source": [
    "### Scientific notation\n",
    "- **1e6 = 1000000**\n",
    "- **1e-3 = 0.001**"
   ]
  },
  {
   "cell_type": "code",
   "execution_count": 24,
   "id": "6769584e",
   "metadata": {},
   "outputs": [
    {
     "data": {
      "text/plain": [
       "94608000.0"
      ]
     },
     "execution_count": 24,
     "metadata": {},
     "output_type": "execute_result"
    }
   ],
   "source": [
    "3e0 * 3.65e2 * 2.4e1 * 3.6e3"
   ]
  },
  {
   "cell_type": "markdown",
   "id": "8c9851e9",
   "metadata": {},
   "source": [
    "### Data Types\n",
    "**How to find the data type of different values?**\n",
    "- **SYNTAX**\n",
    "    - **type(value)**"
   ]
  },
  {
   "cell_type": "code",
   "execution_count": 25,
   "id": "0d459026",
   "metadata": {},
   "outputs": [
    {
     "data": {
      "text/plain": [
       "int"
      ]
     },
     "execution_count": 25,
     "metadata": {},
     "output_type": "execute_result"
    }
   ],
   "source": [
    "type(1234)"
   ]
  },
  {
   "cell_type": "code",
   "execution_count": 26,
   "id": "fa35b151",
   "metadata": {},
   "outputs": [
    {
     "data": {
      "text/plain": [
       "float"
      ]
     },
     "execution_count": 26,
     "metadata": {},
     "output_type": "execute_result"
    }
   ],
   "source": [
    "type(math.pi)"
   ]
  },
  {
   "cell_type": "code",
   "execution_count": 27,
   "id": "5e54e881",
   "metadata": {},
   "outputs": [
    {
     "data": {
      "text/plain": [
       "float"
      ]
     },
     "execution_count": 27,
     "metadata": {},
     "output_type": "execute_result"
    }
   ],
   "source": [
    "type(math.e)"
   ]
  },
  {
   "cell_type": "code",
   "execution_count": 28,
   "id": "8ddef224",
   "metadata": {},
   "outputs": [
    {
     "data": {
      "text/plain": [
       "float"
      ]
     },
     "execution_count": 28,
     "metadata": {},
     "output_type": "execute_result"
    }
   ],
   "source": [
    "type(3.14)"
   ]
  },
  {
   "cell_type": "code",
   "execution_count": 29,
   "id": "f814a180",
   "metadata": {},
   "outputs": [
    {
     "data": {
      "text/plain": [
       "complex"
      ]
     },
     "execution_count": 29,
     "metadata": {},
     "output_type": "execute_result"
    }
   ],
   "source": [
    "type(2+3j)"
   ]
  },
  {
   "cell_type": "markdown",
   "id": "6cc89630",
   "metadata": {},
   "source": [
    "## 1.3 Managing Packages\n",
    "\n",
    "### Package Managers\n",
    "\n",
    "#### pip\n",
    "- pip is a package manager that automates the process of updating, installing and removing packages.\n",
    "- It can install packages published on **python package index (PyPI)**\n",
    "- Get all commands available on pip\n",
    "     - **COMMAND**\n",
    "         - **`pip help`**  \n",
    "1. **Install latest version of a package**  \n",
    "Install latest version of a package called \"package_name\"\n",
    "    - **SYNTAX**\n",
    "        - `pip install package_name`\n",
    "2. **Install specific version of a package**\n",
    "To install a specific version of a package called \"package_name\" and version 1.5\n",
    "     - **SYNTAX**\n",
    "        - `pip install package_name==1.5`\n",
    "> **pip installs packages and other dependencies as well.**\n",
    "3. **Upgrade a package**\n",
    "If I want to upgrade a package called package_name **to its latest version from python package index (PyPI)**\n",
    "    - **SYNTAX 1**\n",
    "        - `pip install --upgrade package_name`\n",
    "    - **SYNTAX 2**\n",
    "        - `pip install -U package_name\n",
    "4. **Uninstall a package**  \n",
    "Uninstall a package called package_name.\n",
    "    - **SYNTAX**\n",
    "        - `pip uninstall package_name`\n",
    "5. **List all the installed packages**\n",
    "    - **SYNTAX**\n",
    "        - `pip list`\n",
    "6. **Show package details**\n",
    "    - package details like, where it is installed, its dependencies, the author etc.\n",
    "    - **SYNTAX**\n",
    "        - `pip show package_name`"
   ]
  },
  {
   "cell_type": "code",
   "execution_count": 30,
   "id": "84bebcda",
   "metadata": {},
   "outputs": [
    {
     "name": "stdout",
     "output_type": "stream",
     "text": [
      "\n",
      "Usage:   \n",
      "  /Library/Frameworks/Python.framework/Versions/3.10/bin/python3.10 -m pip <command> [options]\n",
      "\n",
      "Commands:\n",
      "  install                     Install packages.\n",
      "  download                    Download packages.\n",
      "  uninstall                   Uninstall packages.\n",
      "  freeze                      Output installed packages in requirements format.\n",
      "  inspect                     Inspect the python environment.\n",
      "  list                        List installed packages.\n",
      "  show                        Show information about installed packages.\n",
      "  check                       Verify installed packages have compatible dependencies.\n",
      "  config                      Manage local and global configuration.\n",
      "  search                      Search PyPI for packages.\n",
      "  cache                       Inspect and manage pip's wheel cache.\n",
      "  index                       Inspect information available from package indexes.\n",
      "  wheel                       Build wheels from your requirements.\n",
      "  hash                        Compute hashes of package archives.\n",
      "  completion                  A helper command used for command completion.\n",
      "  debug                       Show information useful for debugging.\n",
      "  help                        Show help for commands.\n",
      "\n",
      "General Options:\n",
      "  -h, --help                  Show help.\n",
      "  --debug                     Let unhandled exceptions propagate outside the\n",
      "                              main subroutine, instead of logging them to\n",
      "                              stderr.\n",
      "  --isolated                  Run pip in an isolated mode, ignoring\n",
      "                              environment variables and user configuration.\n",
      "  --require-virtualenv        Allow pip to only run in a virtual environment;\n",
      "                              exit with an error otherwise.\n",
      "  --python <python>           Run pip with the specified Python interpreter.\n",
      "  -v, --verbose               Give more output. Option is additive, and can be\n",
      "                              used up to 3 times.\n",
      "  -V, --version               Show version and exit.\n",
      "  -q, --quiet                 Give less output. Option is additive, and can be\n",
      "                              used up to 3 times (corresponding to WARNING,\n",
      "                              ERROR, and CRITICAL logging levels).\n",
      "  --log <path>                Path to a verbose appending log.\n",
      "  --no-input                  Disable prompting for input.\n",
      "  --keyring-provider <keyring_provider>\n",
      "                              Enable the credential lookup via the keyring\n",
      "                              library if user input is allowed. Specify which\n",
      "                              mechanism to use [disabled, import, subprocess].\n",
      "                              (default: disabled)\n",
      "  --proxy <proxy>             Specify a proxy in the form\n",
      "                              scheme://[user:passwd@]proxy.server:port.\n",
      "  --retries <retries>         Maximum number of retries each connection should\n",
      "                              attempt (default 5 times).\n",
      "  --timeout <sec>             Set the socket timeout (default 15 seconds).\n",
      "  --exists-action <action>    Default action when a path already exists:\n",
      "                              (s)witch, (i)gnore, (w)ipe, (b)ackup, (a)bort.\n",
      "  --trusted-host <hostname>   Mark this host or host:port pair as trusted,\n",
      "                              even though it does not have valid or any HTTPS.\n",
      "  --cert <path>               Path to PEM-encoded CA certificate bundle. If\n",
      "                              provided, overrides the default. See 'SSL\n",
      "                              Certificate Verification' in pip documentation\n",
      "                              for more information.\n",
      "  --client-cert <path>        Path to SSL client certificate, a single file\n",
      "                              containing the private key and the certificate\n",
      "                              in PEM format.\n",
      "  --cache-dir <dir>           Store the cache data in <dir>.\n",
      "  --no-cache-dir              Disable the cache.\n",
      "  --disable-pip-version-check\n",
      "                              Don't periodically check PyPI to determine\n",
      "                              whether a new version of pip is available for\n",
      "                              download. Implied with --no-index.\n",
      "  --no-color                  Suppress colored output.\n",
      "  --no-python-version-warning\n",
      "                              Silence deprecation warnings for upcoming\n",
      "                              unsupported Pythons.\n",
      "  --use-feature <feature>     Enable new functionality, that may be backward\n",
      "                              incompatible.\n",
      "  --use-deprecated <feature>  Enable deprecated functionality, that will be\n",
      "                              removed in the future.\n",
      "Note: you may need to restart the kernel to use updated packages.\n"
     ]
    }
   ],
   "source": [
    "pip help"
   ]
  },
  {
   "cell_type": "code",
   "execution_count": null,
   "id": "747438fe",
   "metadata": {},
   "outputs": [],
   "source": []
  }
 ],
 "metadata": {
  "kernelspec": {
   "display_name": "Python 3 (ipykernel)",
   "language": "python",
   "name": "python3"
  },
  "language_info": {
   "codemirror_mode": {
    "name": "ipython",
    "version": 3
   },
   "file_extension": ".py",
   "mimetype": "text/x-python",
   "name": "python",
   "nbconvert_exporter": "python",
   "pygments_lexer": "ipython3",
   "version": "3.10.6"
  }
 },
 "nbformat": 4,
 "nbformat_minor": 5
}
