{
 "cells": [
  {
   "cell_type": "code",
   "execution_count": 4,
   "id": "3bb1660c",
   "metadata": {},
   "outputs": [
    {
     "data": {
      "text/plain": [
       "2"
      ]
     },
     "execution_count": 4,
     "metadata": {},
     "output_type": "execute_result"
    }
   ],
   "source": [
    "y=2\n",
    "y"
   ]
  },
  {
   "cell_type": "code",
   "execution_count": 5,
   "id": "bd138409",
   "metadata": {},
   "outputs": [
    {
     "data": {
      "text/plain": [
       "6"
      ]
     },
     "execution_count": 5,
     "metadata": {},
     "output_type": "execute_result"
    }
   ],
   "source": [
    "y*3"
   ]
  },
  {
   "cell_type": "markdown",
   "id": "2d4d7105",
   "metadata": {},
   "source": [
    "### Magic Commands:\n",
    "magic commands are a specialized set of\n",
    "commands host by the IPython kernel and require the prefix % to specify the commands.<br>\n",
    "\n",
    " **%whos** To get the list of all variables in the notebook.\n"
   ]
  },
  {
   "cell_type": "code",
   "execution_count": 6,
   "id": "122db435",
   "metadata": {},
   "outputs": [
    {
     "name": "stdout",
     "output_type": "stream",
     "text": [
      "Variable   Type    Data/Info\n",
      "----------------------------\n",
      "y          int     2\n"
     ]
    }
   ],
   "source": [
    "%whos"
   ]
  },
  {
   "cell_type": "markdown",
   "id": "596355a3",
   "metadata": {},
   "source": [
    "In python assignment always happens from left to right."
   ]
  },
  {
   "cell_type": "code",
   "execution_count": 7,
   "id": "e7ff7b62",
   "metadata": {},
   "outputs": [
    {
     "ename": "SyntaxError",
     "evalue": "cannot assign to literal here. Maybe you meant '==' instead of '='? (3270958869.py, line 1)",
     "output_type": "error",
     "traceback": [
      "\u001b[0;36m  Cell \u001b[0;32mIn[7], line 1\u001b[0;36m\u001b[0m\n\u001b[0;31m    1 = x\u001b[0m\n\u001b[0m    ^\u001b[0m\n\u001b[0;31mSyntaxError\u001b[0m\u001b[0;31m:\u001b[0m cannot assign to literal here. Maybe you meant '==' instead of '='?\n"
     ]
    }
   ],
   "source": [
    "1 = x"
   ]
  },
  {
   "cell_type": "markdown",
   "id": "4f6947c6",
   "metadata": {},
   "source": [
    "You can overwrite variables or functions that have been stored in Python. For example,\n",
    "the command help = 2 will store the value 2 in the variable with name help. After this\n",
    "assignment help will behave like the value 2 instead of the function help. Therefore, you should\n",
    "always be careful not to give your variables the same name as built-in functions or values."
   ]
  },
  {
   "cell_type": "markdown",
   "id": "457a72cf",
   "metadata": {},
   "source": [
    "**del** command to delete a variable.<br>\n",
    "**%reset** An Ipython command to remove all the variables from the notebook.<br>\n",
    "This command is not in python shell!<br>"
   ]
  },
  {
   "cell_type": "markdown",
   "id": "f95583ae",
   "metadata": {},
   "source": [
    "## Data types:\n",
    "- int, float, boolean are data types related to single value.\n",
    "- strings, lists, tuples, sets, and dictionaries are data types related to multiple values."
   ]
  },
  {
   "cell_type": "markdown",
   "id": "bd8c75ee",
   "metadata": {},
   "source": [
    "### Strings\n",
    "- string is a sequence data structure.\n",
    "- **len** to get string length.\n",
    "- indexing: index starts from 0.\n",
    "- string slicing [start:end:step].If you ignore the step argument, the default will be set to 1.\n",
    "- escape characters using \"\\\\\"\n",
    "- string addition is string concatenation.\n",
    "- **str** converts a the datatype to a string.\n",
    "- **in** command to check if a string is present in another string\n",
    "- string methods\n",
    "    - **stringname.upper()** = *<u>method</u>* converts all the charaters to upper case characters.\n",
    "    - **stringname.lower()** = *<u>method</u>* converts all the charaters to lower case characters.\n",
    "    - **stringname.count('v')** = number of repitions of v.\n",
    "    - **stringname.replace(\"string1\",\"string2\")** = replace string1 in stringname with string2.\n",
    "    -"
   ]
  },
  {
   "cell_type": "code",
   "execution_count": 8,
   "id": "c91131d7",
   "metadata": {},
   "outputs": [
    {
     "data": {
      "text/plain": [
       "str"
      ]
     },
     "execution_count": 8,
     "metadata": {},
     "output_type": "execute_result"
    }
   ],
   "source": [
    "s = \"S\"\n",
    "w = \"Hello World!\"\n",
    "type(w)"
   ]
  },
  {
   "cell_type": "code",
   "execution_count": 9,
   "id": "11489c89",
   "metadata": {},
   "outputs": [
    {
     "data": {
      "text/plain": [
       "str"
      ]
     },
     "execution_count": 9,
     "metadata": {},
     "output_type": "execute_result"
    }
   ],
   "source": [
    "type(s)"
   ]
  },
  {
   "cell_type": "code",
   "execution_count": 10,
   "id": "cd8284a1",
   "metadata": {},
   "outputs": [
    {
     "data": {
      "text/plain": [
       "'W'"
      ]
     },
     "execution_count": 10,
     "metadata": {},
     "output_type": "execute_result"
    }
   ],
   "source": [
    "w[6]"
   ]
  },
  {
   "cell_type": "code",
   "execution_count": 11,
   "id": "57d4dd4b",
   "metadata": {},
   "outputs": [
    {
     "data": {
      "text/plain": [
       "'!'"
      ]
     },
     "execution_count": 11,
     "metadata": {},
     "output_type": "execute_result"
    }
   ],
   "source": [
    "w[-1]"
   ]
  },
  {
   "cell_type": "code",
   "execution_count": 12,
   "id": "3f66a2b2",
   "metadata": {},
   "outputs": [
    {
     "data": {
      "text/plain": [
       "'W'"
      ]
     },
     "execution_count": 12,
     "metadata": {},
     "output_type": "execute_result"
    }
   ],
   "source": [
    "w[6:7]"
   ]
  },
  {
   "cell_type": "code",
   "execution_count": 13,
   "id": "78c2eeeb",
   "metadata": {},
   "outputs": [
    {
     "ename": "NameError",
     "evalue": "name 'end' is not defined",
     "output_type": "error",
     "traceback": [
      "\u001b[0;31m---------------------------------------------------------------------------\u001b[0m",
      "\u001b[0;31mNameError\u001b[0m                                 Traceback (most recent call last)",
      "Cell \u001b[0;32mIn[13], line 1\u001b[0m\n\u001b[0;32m----> 1\u001b[0m w[\u001b[38;5;241m6\u001b[39m:\u001b[43mend\u001b[49m]\n",
      "\u001b[0;31mNameError\u001b[0m: name 'end' is not defined"
     ]
    }
   ],
   "source": [
    "w[6:end]"
   ]
  },
  {
   "cell_type": "code",
   "execution_count": 14,
   "id": "7c675bc6",
   "metadata": {},
   "outputs": [
    {
     "data": {
      "text/plain": [
       "'World!'"
      ]
     },
     "execution_count": 14,
     "metadata": {},
     "output_type": "execute_result"
    }
   ],
   "source": [
    "w[6:]"
   ]
  },
  {
   "cell_type": "code",
   "execution_count": 15,
   "id": "bb5362a7",
   "metadata": {},
   "outputs": [
    {
     "data": {
      "text/plain": [
       "'World'"
      ]
     },
     "execution_count": 15,
     "metadata": {},
     "output_type": "execute_result"
    }
   ],
   "source": [
    "w[6:-1]"
   ]
  },
  {
   "cell_type": "code",
   "execution_count": 16,
   "id": "67571b3d",
   "metadata": {},
   "outputs": [
    {
     "data": {
      "text/plain": [
       "'Wrd'"
      ]
     },
     "execution_count": 16,
     "metadata": {},
     "output_type": "execute_result"
    }
   ],
   "source": [
    "w[6::2]"
   ]
  },
  {
   "cell_type": "code",
   "execution_count": 17,
   "id": "277a283b",
   "metadata": {},
   "outputs": [
    {
     "data": {
      "text/plain": [
       "'Hello '"
      ]
     },
     "execution_count": 17,
     "metadata": {},
     "output_type": "execute_result"
    }
   ],
   "source": [
    "w[:6]"
   ]
  },
  {
   "cell_type": "code",
   "execution_count": 18,
   "id": "23f13c72",
   "metadata": {},
   "outputs": [
    {
     "data": {
      "text/plain": [
       "''"
      ]
     },
     "execution_count": 18,
     "metadata": {},
     "output_type": "execute_result"
    }
   ],
   "source": [
    "w[6:2]"
   ]
  },
  {
   "cell_type": "code",
   "execution_count": 19,
   "id": "a5817a7d",
   "metadata": {},
   "outputs": [
    {
     "data": {
      "text/plain": [
       "'HloWrd'"
      ]
     },
     "execution_count": 19,
     "metadata": {},
     "output_type": "execute_result"
    }
   ],
   "source": [
    "w[::2]"
   ]
  },
  {
   "cell_type": "code",
   "execution_count": 20,
   "id": "85cdbaab",
   "metadata": {},
   "outputs": [
    {
     "data": {
      "text/plain": [
       "\"i don't know\""
      ]
     },
     "execution_count": 20,
     "metadata": {},
     "output_type": "execute_result"
    }
   ],
   "source": [
    "x = \"i don\\'t know\"\n",
    "x"
   ]
  },
  {
   "cell_type": "code",
   "execution_count": 21,
   "id": "657fa235",
   "metadata": {},
   "outputs": [
    {
     "data": {
      "text/plain": [
       "\"i don't knowHello World!\""
      ]
     },
     "execution_count": 21,
     "metadata": {},
     "output_type": "execute_result"
    }
   ],
   "source": [
    "y = x + w;\n",
    "y"
   ]
  },
  {
   "cell_type": "code",
   "execution_count": 22,
   "id": "153b341e",
   "metadata": {},
   "outputs": [
    {
     "data": {
      "text/plain": [
       "\"i don't knowHello World! why does every python book introduce strings?\""
      ]
     },
     "execution_count": 22,
     "metadata": {},
     "output_type": "execute_result"
    }
   ],
   "source": [
    "y + \" why does every python book introduce strings?\""
   ]
  },
  {
   "cell_type": "code",
   "execution_count": 23,
   "id": "f502c2f2",
   "metadata": {},
   "outputs": [
    {
     "data": {
      "text/plain": [
       "10"
      ]
     },
     "execution_count": 23,
     "metadata": {},
     "output_type": "execute_result"
    }
   ],
   "source": [
    "z = 10;\n",
    "z"
   ]
  },
  {
   "cell_type": "code",
   "execution_count": 24,
   "id": "76a452a8",
   "metadata": {},
   "outputs": [
    {
     "data": {
      "text/plain": [
       "'10'"
      ]
     },
     "execution_count": 24,
     "metadata": {},
     "output_type": "execute_result"
    }
   ],
   "source": [
    "str(z)"
   ]
  },
  {
   "cell_type": "code",
   "execution_count": 25,
   "id": "8ad38bde",
   "metadata": {},
   "outputs": [
    {
     "data": {
      "text/plain": [
       "'HELLO WORLD!'"
      ]
     },
     "execution_count": 25,
     "metadata": {},
     "output_type": "execute_result"
    }
   ],
   "source": [
    "w.upper()"
   ]
  },
  {
   "cell_type": "code",
   "execution_count": 26,
   "id": "49e04fd1",
   "metadata": {},
   "outputs": [
    {
     "data": {
      "text/plain": [
       "3"
      ]
     },
     "execution_count": 26,
     "metadata": {},
     "output_type": "execute_result"
    }
   ],
   "source": [
    "w.count('l')"
   ]
  },
  {
   "cell_type": "code",
   "execution_count": 27,
   "id": "bdc3358f",
   "metadata": {},
   "outputs": [
    {
     "data": {
      "text/plain": [
       "'Hello Bhoomi!'"
      ]
     },
     "execution_count": 27,
     "metadata": {},
     "output_type": "execute_result"
    }
   ],
   "source": [
    "w.replace(\"World\",\"Bhoomi\")"
   ]
  },
  {
   "cell_type": "markdown",
   "id": "9bc57533",
   "metadata": {},
   "source": [
    "**using %s and f-string**"
   ]
  },
  {
   "cell_type": "code",
   "execution_count": 28,
   "id": "7695e6ca",
   "metadata": {},
   "outputs": [
    {
     "name": "stdout",
     "output_type": "stream",
     "text": [
      "IISc is a very good college in india\n"
     ]
    }
   ],
   "source": [
    "name = \"IISc\"\n",
    "country = \"india\"\n",
    "print(\"%s is a very good college in %s\" %(name,country))"
   ]
  },
  {
   "cell_type": "code",
   "execution_count": 29,
   "id": "7cd30cf7",
   "metadata": {},
   "outputs": [
    {
     "name": "stdout",
     "output_type": "stream",
     "text": [
      "%s is a very good college IISc\n"
     ]
    }
   ],
   "source": [
    "print(\"%s is a very good college\", name)"
   ]
  },
  {
   "cell_type": "code",
   "execution_count": 30,
   "id": "4533df29",
   "metadata": {},
   "outputs": [
    {
     "name": "stdout",
     "output_type": "stream",
     "text": [
      "IISc is a good college in india\n"
     ]
    }
   ],
   "source": [
    "print(f\"{name} is a good college in {country}\")"
   ]
  },
  {
   "cell_type": "code",
   "execution_count": 31,
   "id": "3022b975",
   "metadata": {},
   "outputs": [
    {
     "name": "stdout",
     "output_type": "stream",
     "text": [
      "6\n"
     ]
    }
   ],
   "source": [
    "print(f\"{2*3}\")"
   ]
  },
  {
   "cell_type": "markdown",
   "id": "0a47c537",
   "metadata": {},
   "source": [
    "### List\n",
    "- defined using []\n",
    "- more versatile seuential data type than strings.\n",
    "- A list can hold any type of data: numerical, or strings, or other types\n",
    "- A list can also hold another list.\n",
    "- list slicing\n",
    "- list indexing\n",
    "- **len** = function acting on a lsit to give its length\n",
    "- concatenating lists\n",
    "- **append** = <u>*method*</u> appends an item at the end of a list .in list. not present in strings.\n",
    "- **insert** = <u>*method*</u>  Inserts at a particular index loction. in list. not in strings.\n",
    "    - list_name.insert(index,element)\n",
    "- **del** = <u>*function*</u> deletes an element from a particular index location. ( strings dont support item deletion)\n",
    "- **remove** = <u>*method*</u> to remove a particular element in list.\n",
    "- adding elements to a list starting with an empty list.\n",
    "- **list** = <u>*function*</u> to convert any sequence items to a list.\n",
    "- Checking if an element is **in** a list. See example.\n",
    "- **count** = <u>*method*</u> counts the number of times a particular item is present in the list.worls with tuples, strings, lists.\n",
    "- **sort** = <u>*method*</u> counts the number of times a particular item is present in the list.worls with tuples, strings, lists.\n",
    "    - list_name.sort() = sorts in acending order."
   ]
  },
  {
   "cell_type": "code",
   "execution_count": 32,
   "id": "bdbdcd9e",
   "metadata": {},
   "outputs": [
    {
     "data": {
      "text/plain": [
       "[1, 2, 3, 'apples', 'Oranges']"
      ]
     },
     "execution_count": 32,
     "metadata": {},
     "output_type": "execute_result"
    }
   ],
   "source": [
    "list1 = [1,2,3, \"apples\", \"Oranges\"]\n",
    "list1"
   ]
  },
  {
   "cell_type": "code",
   "execution_count": 33,
   "id": "47294828",
   "metadata": {},
   "outputs": [
    {
     "data": {
      "text/plain": [
       "[[1, 2, 3, 'apples', 'Oranges'], ['a', 'b', 'c']]"
      ]
     },
     "execution_count": 33,
     "metadata": {},
     "output_type": "execute_result"
    }
   ],
   "source": [
    "list2 = ['a', 'b', 'c']\n",
    "list3 = [list1, list2]\n",
    "list3"
   ]
  },
  {
   "cell_type": "code",
   "execution_count": 34,
   "id": "2809c467",
   "metadata": {},
   "outputs": [
    {
     "data": {
      "text/plain": [
       "'Oranges'"
      ]
     },
     "execution_count": 34,
     "metadata": {},
     "output_type": "execute_result"
    }
   ],
   "source": [
    "list1[-1]"
   ]
  },
  {
   "cell_type": "code",
   "execution_count": 35,
   "id": "4d119a2d",
   "metadata": {},
   "outputs": [
    {
     "data": {
      "text/plain": [
       "['a', 'b', 'c', '!']"
      ]
     },
     "execution_count": 35,
     "metadata": {},
     "output_type": "execute_result"
    }
   ],
   "source": [
    "list2.append(\"!\")\n",
    "list2"
   ]
  },
  {
   "cell_type": "code",
   "execution_count": 36,
   "id": "14432037",
   "metadata": {},
   "outputs": [
    {
     "data": {
      "text/plain": [
       "['a', 'b', 'c']"
      ]
     },
     "execution_count": 36,
     "metadata": {},
     "output_type": "execute_result"
    }
   ],
   "source": [
    "list2.remove(\"!\")\n",
    "list2"
   ]
  },
  {
   "cell_type": "code",
   "execution_count": 37,
   "id": "a0494f2e",
   "metadata": {},
   "outputs": [
    {
     "data": {
      "text/plain": [
       "['a', 'c']"
      ]
     },
     "execution_count": 37,
     "metadata": {},
     "output_type": "execute_result"
    }
   ],
   "source": [
    "del list2[1]\n",
    "list2"
   ]
  },
  {
   "cell_type": "code",
   "execution_count": 44,
   "id": "3da25578",
   "metadata": {},
   "outputs": [
    {
     "data": {
      "text/plain": [
       "['a', 'b', 'c']"
      ]
     },
     "execution_count": 44,
     "metadata": {},
     "output_type": "execute_result"
    }
   ],
   "source": [
    "list2.insert(1, \"b\")\n",
    "list2"
   ]
  },
  {
   "cell_type": "code",
   "execution_count": 45,
   "id": "59d3bc0f",
   "metadata": {},
   "outputs": [
    {
     "data": {
      "text/plain": [
       "['H', 'e', 'l', 'l', 'o', ' ', 'W', 'o', 'r', 'l', 'd', '!']"
      ]
     },
     "execution_count": 45,
     "metadata": {},
     "output_type": "execute_result"
    }
   ],
   "source": [
    "u = list(w)\n",
    "u"
   ]
  },
  {
   "cell_type": "code",
   "execution_count": 46,
   "id": "327d834a",
   "metadata": {},
   "outputs": [
    {
     "data": {
      "text/plain": [
       "False"
      ]
     },
     "execution_count": 46,
     "metadata": {},
     "output_type": "execute_result"
    }
   ],
   "source": [
    "5 in list2"
   ]
  },
  {
   "cell_type": "code",
   "execution_count": 48,
   "id": "af8ab330",
   "metadata": {},
   "outputs": [
    {
     "data": {
      "text/plain": [
       "True"
      ]
     },
     "execution_count": 48,
     "metadata": {},
     "output_type": "execute_result"
    }
   ],
   "source": [
    "'a' in list2"
   ]
  },
  {
   "cell_type": "code",
   "execution_count": 63,
   "id": "4773facf",
   "metadata": {},
   "outputs": [
    {
     "data": {
      "text/plain": [
       "3"
      ]
     },
     "execution_count": 63,
     "metadata": {},
     "output_type": "execute_result"
    }
   ],
   "source": [
    "u.count(\"l\")"
   ]
  },
  {
   "cell_type": "markdown",
   "id": "84806e18",
   "metadata": {},
   "source": [
    "### Tuple\n",
    "- defined using ().\n",
    "- tuples are immutable\n",
    "- usually list contai same data tyles, but tuples contain multiple data types.\n",
    "- Tuples or lists can be accessed by unpacking.\n",
    "- The opposite operation to unpacking is packing, as shown in the following example.We can see that we do not need the parentheses to define a tuple, but it is considered good practice to do so.\n",
    "- **tuple** = <u>*function*</u> to convert any sequence items to a tuple."
   ]
  },
  {
   "cell_type": "code",
   "execution_count": 64,
   "id": "555b777d",
   "metadata": {},
   "outputs": [
    {
     "data": {
      "text/plain": [
       "(1, 2, 3)"
      ]
     },
     "execution_count": 64,
     "metadata": {},
     "output_type": "execute_result"
    }
   ],
   "source": [
    "tuple1 = (1,2,3)\n",
    "tuple1"
   ]
  },
  {
   "cell_type": "code",
   "execution_count": 65,
   "id": "28d82774",
   "metadata": {},
   "outputs": [
    {
     "ename": "AttributeError",
     "evalue": "'tuple' object has no attribute 'append'",
     "output_type": "error",
     "traceback": [
      "\u001b[0;31m---------------------------------------------------------------------------\u001b[0m",
      "\u001b[0;31mAttributeError\u001b[0m                            Traceback (most recent call last)",
      "Cell \u001b[0;32mIn[65], line 1\u001b[0m\n\u001b[0;32m----> 1\u001b[0m \u001b[43mtuple1\u001b[49m\u001b[38;5;241;43m.\u001b[39;49m\u001b[43mappend\u001b[49m(\u001b[38;5;241m4\u001b[39m)\n",
      "\u001b[0;31mAttributeError\u001b[0m: 'tuple' object has no attribute 'append'"
     ]
    }
   ],
   "source": [
    "tuple1.append(4)"
   ]
  },
  {
   "cell_type": "code",
   "execution_count": 66,
   "id": "03319d38",
   "metadata": {},
   "outputs": [
    {
     "data": {
      "text/plain": [
       "3"
      ]
     },
     "execution_count": 66,
     "metadata": {},
     "output_type": "execute_result"
    }
   ],
   "source": [
    "tuple1[2]"
   ]
  },
  {
   "cell_type": "code",
   "execution_count": 67,
   "id": "f98f6d44",
   "metadata": {},
   "outputs": [
    {
     "ename": "TypeError",
     "evalue": "'tuple' object does not support item assignment",
     "output_type": "error",
     "traceback": [
      "\u001b[0;31m---------------------------------------------------------------------------\u001b[0m",
      "\u001b[0;31mTypeError\u001b[0m                                 Traceback (most recent call last)",
      "Cell \u001b[0;32mIn[67], line 1\u001b[0m\n\u001b[0;32m----> 1\u001b[0m \u001b[43mtuple1\u001b[49m\u001b[43m[\u001b[49m\u001b[38;5;241;43m2\u001b[39;49m\u001b[43m]\u001b[49m \u001b[38;5;241m=\u001b[39m \u001b[38;5;241m33\u001b[39m\n",
      "\u001b[0;31mTypeError\u001b[0m: 'tuple' object does not support item assignment"
     ]
    }
   ],
   "source": [
    "tuple1[2] = 33"
   ]
  },
  {
   "cell_type": "code",
   "execution_count": 69,
   "id": "8becac8b",
   "metadata": {},
   "outputs": [
    {
     "name": "stdout",
     "output_type": "stream",
     "text": [
      "1 2 3\n"
     ]
    }
   ],
   "source": [
    "a, b, c = tuple1;\n",
    "print(a,b,c)"
   ]
  },
  {
   "cell_type": "code",
   "execution_count": 70,
   "id": "1ebf7997",
   "metadata": {},
   "outputs": [
    {
     "name": "stdout",
     "output_type": "stream",
     "text": [
      "a b c\n"
     ]
    }
   ],
   "source": [
    "d, e, f = list2\n",
    "print(d,e,f)"
   ]
  },
  {
   "cell_type": "code",
   "execution_count": 72,
   "id": "39152900",
   "metadata": {
    "scrolled": true
   },
   "outputs": [
    {
     "data": {
      "text/plain": [
       "(4, 92, 33)"
      ]
     },
     "execution_count": 72,
     "metadata": {},
     "output_type": "execute_result"
    }
   ],
   "source": [
    "tuple2 = 4,92,33\n",
    "tuple2"
   ]
  },
  {
   "cell_type": "code",
   "execution_count": 73,
   "id": "367d07ca",
   "metadata": {},
   "outputs": [
    {
     "data": {
      "text/plain": [
       "('H', 'e', 'l', 'l', 'o', ' ', 'W', 'o', 'r', 'l', 'd', '!')"
      ]
     },
     "execution_count": 73,
     "metadata": {},
     "output_type": "execute_result"
    }
   ],
   "source": [
    "tuple3 = tuple(w);\n",
    "tuple3"
   ]
  },
  {
   "cell_type": "code",
   "execution_count": 74,
   "id": "efc66c53",
   "metadata": {},
   "outputs": [
    {
     "data": {
      "text/plain": [
       "('a', 'b', 'c')"
      ]
     },
     "execution_count": 74,
     "metadata": {},
     "output_type": "execute_result"
    }
   ],
   "source": [
    "tuple4 = tuple(list2)\n",
    "tuple4"
   ]
  },
  {
   "cell_type": "markdown",
   "id": "8f46ce7a",
   "metadata": {},
   "source": [
    "### Sets\n",
    "- defined using{}\n",
    "- **set** = <u>*function*</u> to convert any sequence items to a set.\n",
    "- **union** = <u>*method*</u> set1.union(set2).\n",
    "- **intersection** = <u>*method*</u> set1.intersection(set2).\n",
    "- **issubset** = <u>*method*</u> set1.issubset(set2).\n",
    "- **difference** = = <u>*method*</u> set1.difference(set2).\n",
    "    - set1 - set2 also works\n",
    "- mostly used for getting the non repeating elements in a tuple, list etc."
   ]
  },
  {
   "cell_type": "markdown",
   "id": "2e91f3a5",
   "metadata": {},
   "source": [
    "### Dictionaries\n",
    "- the values are acessed by using keys rather than indices\n",
    "- {Keys:values}\n",
    "- **keys** = <u>*method*</u> dictionary_name.keys()\n",
    "- **values** = <u>*method*</u> dictionary_name.values().\n",
    "- **in** and **not in**"
   ]
  },
  {
   "cell_type": "code",
   "execution_count": 80,
   "id": "d76fc84b",
   "metadata": {},
   "outputs": [
    {
     "data": {
      "text/plain": [
       "{'India': 'IISc', 'USA': 'UW-M'}"
      ]
     },
     "execution_count": 80,
     "metadata": {},
     "output_type": "execute_result"
    }
   ],
   "source": [
    "school_dict1={}\n",
    "school_dict1[\"India\"] = \"IISc\"\n",
    "school_dict1[\"USA\"] = \"UW-M\"\n",
    "school_dict1"
   ]
  },
  {
   "cell_type": "code",
   "execution_count": 82,
   "id": "3781fc57",
   "metadata": {},
   "outputs": [
    {
     "data": {
      "text/plain": [
       "{'Viswa': 'Andhra', 'SVNIT': 'Gujarat', 'IISc': 'Karnataka'}"
      ]
     },
     "execution_count": 82,
     "metadata": {},
     "output_type": "execute_result"
    }
   ],
   "source": [
    "school_list = [(\"Viswa\", \"Andhra\"), (\"SVNIT\", \"Gujarat\"), (\"IISc\",\"Karnataka\")];\n",
    "school_dict2 = dict(school_list);\n",
    "school_dict2"
   ]
  },
  {
   "cell_type": "code",
   "execution_count": 87,
   "id": "b755a6fc",
   "metadata": {},
   "outputs": [
    {
     "data": {
      "text/plain": [
       "'Andhra'"
      ]
     },
     "execution_count": 87,
     "metadata": {},
     "output_type": "execute_result"
    }
   ],
   "source": [
    "school_dict2[\"Viswa\"]"
   ]
  },
  {
   "cell_type": "code",
   "execution_count": 90,
   "id": "6e9aa21d",
   "metadata": {},
   "outputs": [
    {
     "data": {
      "text/plain": [
       "True"
      ]
     },
     "execution_count": 90,
     "metadata": {},
     "output_type": "execute_result"
    }
   ],
   "source": [
    "\"Viswa\" in school_dict2"
   ]
  },
  {
   "cell_type": "code",
   "execution_count": 94,
   "id": "6c4998ad",
   "metadata": {},
   "outputs": [
    {
     "data": {
      "text/plain": [
       "dict_keys(['India', 'USA'])"
      ]
     },
     "execution_count": 94,
     "metadata": {},
     "output_type": "execute_result"
    }
   ],
   "source": [
    "rogue1 = school_dict1.keys();\n",
    "rogue1"
   ]
  },
  {
   "cell_type": "code",
   "execution_count": 96,
   "id": "a5ac10f2",
   "metadata": {},
   "outputs": [
    {
     "data": {
      "text/plain": [
       "dict_keys"
      ]
     },
     "execution_count": 96,
     "metadata": {},
     "output_type": "execute_result"
    }
   ],
   "source": [
    "type(rogue1)"
   ]
  },
  {
   "cell_type": "code",
   "execution_count": 98,
   "id": "097cdf89",
   "metadata": {},
   "outputs": [
    {
     "data": {
      "text/plain": [
       "dict_values(['Andhra', 'Gujarat', 'Karnataka'])"
      ]
     },
     "execution_count": 98,
     "metadata": {},
     "output_type": "execute_result"
    }
   ],
   "source": [
    "rogue2 = school_dict2.values()\n",
    "rogue2"
   ]
  },
  {
   "cell_type": "code",
   "execution_count": 99,
   "id": "251dbe30",
   "metadata": {},
   "outputs": [
    {
     "data": {
      "text/plain": [
       "dict_values"
      ]
     },
     "execution_count": 99,
     "metadata": {},
     "output_type": "execute_result"
    }
   ],
   "source": [
    "type(rogue2)"
   ]
  },
  {
   "cell_type": "markdown",
   "id": "f5d288d6",
   "metadata": {},
   "source": [
    "### Numpy Arrays\n",
    "- Reading an array,reading a matrix.\n",
    "- **shape** = <u>*attribute*</u> returns a tuple.\n",
    "- **size** = <u>*attribute*</u>\n",
    "- **np.arange(lower limit, upperlimit, stepsize)**\n",
    "- **np.linspace(lower limit, upperlimit, no.of elements)**\n",
    "- **np.zeros((tuple input))**\n",
    "- **np.ones((tuple input))**\n",
    "- **np.empty((tuple input))**\n",
    "- indexing in arrays\n",
    "- scalar addition, division, multiplication, subtraction.\n",
    "- **matrixname.T** = produces the transpose of a matrix"
   ]
  },
  {
   "cell_type": "code",
   "execution_count": 2,
   "id": "d0f2e06a",
   "metadata": {},
   "outputs": [],
   "source": [
    "import numpy as np"
   ]
  },
  {
   "cell_type": "code",
   "execution_count": 5,
   "id": "2618c55b",
   "metadata": {},
   "outputs": [
    {
     "data": {
      "text/plain": [
       "array([1, 4, 3])"
      ]
     },
     "execution_count": 5,
     "metadata": {},
     "output_type": "execute_result"
    }
   ],
   "source": [
    "array1 = np.array([1,4,3])\n",
    "array1"
   ]
  },
  {
   "cell_type": "code",
   "execution_count": 7,
   "id": "fa60f954",
   "metadata": {},
   "outputs": [
    {
     "data": {
      "text/plain": [
       "array([[1, 4, 3],\n",
       "       [9, 2, 7]])"
      ]
     },
     "execution_count": 7,
     "metadata": {},
     "output_type": "execute_result"
    }
   ],
   "source": [
    "mat1 = np.array([[1,4,3],[9,2,7]])\n",
    "mat1"
   ]
  },
  {
   "cell_type": "code",
   "execution_count": 9,
   "id": "add61264",
   "metadata": {},
   "outputs": [
    {
     "data": {
      "text/plain": [
       "(2, 3)"
      ]
     },
     "execution_count": 9,
     "metadata": {},
     "output_type": "execute_result"
    }
   ],
   "source": [
    "mat1.shape"
   ]
  },
  {
   "cell_type": "code",
   "execution_count": 10,
   "id": "2a383b65",
   "metadata": {},
   "outputs": [
    {
     "data": {
      "text/plain": [
       "6"
      ]
     },
     "execution_count": 10,
     "metadata": {},
     "output_type": "execute_result"
    }
   ],
   "source": [
    "mat1.size"
   ]
  },
  {
   "cell_type": "code",
   "execution_count": 12,
   "id": "50e8602f",
   "metadata": {},
   "outputs": [
    {
     "data": {
      "text/plain": [
       "array([   1,    2,    3, ..., 1997, 1998, 1999])"
      ]
     },
     "execution_count": 12,
     "metadata": {},
     "output_type": "execute_result"
    }
   ],
   "source": [
    "a2 = np.arange(1,2000,1)\n",
    "a2"
   ]
  },
  {
   "cell_type": "code",
   "execution_count": 15,
   "id": "0370e771",
   "metadata": {},
   "outputs": [
    {
     "data": {
      "text/plain": [
       "array([3.        , 3.66666667, 4.33333333, 5.        , 5.66666667,\n",
       "       6.33333333, 7.        , 7.66666667, 8.33333333, 9.        ])"
      ]
     },
     "execution_count": 15,
     "metadata": {},
     "output_type": "execute_result"
    }
   ],
   "source": [
    "a3 = np.linspace(3,9,10)\n",
    "a3"
   ]
  },
  {
   "cell_type": "code",
   "execution_count": 16,
   "id": "329b7071",
   "metadata": {},
   "outputs": [
    {
     "data": {
      "text/plain": [
       "array([[0., 0., 0., 0., 0.],\n",
       "       [0., 0., 0., 0., 0.],\n",
       "       [0., 0., 0., 0., 0.]])"
      ]
     },
     "execution_count": 16,
     "metadata": {},
     "output_type": "execute_result"
    }
   ],
   "source": [
    "mat3 = np.zeros((3,5))\n",
    "mat3"
   ]
  },
  {
   "cell_type": "code",
   "execution_count": 17,
   "id": "823961b7",
   "metadata": {},
   "outputs": [
    {
     "data": {
      "text/plain": [
       "array([[1., 1., 1., 1., 1.],\n",
       "       [1., 1., 1., 1., 1.],\n",
       "       [1., 1., 1., 1., 1.]])"
      ]
     },
     "execution_count": 17,
     "metadata": {},
     "output_type": "execute_result"
    }
   ],
   "source": [
    "np.ones((3,5))"
   ]
  },
  {
   "cell_type": "code",
   "execution_count": 18,
   "id": "5f630876",
   "metadata": {},
   "outputs": [
    {
     "data": {
      "text/plain": [
       "array([2.05833592e-312, 2.33419537e-312])"
      ]
     },
     "execution_count": 18,
     "metadata": {},
     "output_type": "execute_result"
    }
   ],
   "source": [
    "np.empty(2)"
   ]
  },
  {
   "cell_type": "code",
   "execution_count": 19,
   "id": "0af42b03",
   "metadata": {},
   "outputs": [
    {
     "data": {
      "text/plain": [
       "array([1, 2, 3, 4, 5, 6])"
      ]
     },
     "execution_count": 19,
     "metadata": {},
     "output_type": "execute_result"
    }
   ],
   "source": [
    "a3 = np.arange(1,7,1)\n",
    "a3"
   ]
  },
  {
   "cell_type": "code",
   "execution_count": 20,
   "id": "514d5c2b",
   "metadata": {},
   "outputs": [
    {
     "data": {
      "text/plain": [
       "array([1, 2, 3, 7, 5, 6])"
      ]
     },
     "execution_count": 20,
     "metadata": {},
     "output_type": "execute_result"
    }
   ],
   "source": [
    "a3[3]=7\n",
    "a3"
   ]
  },
  {
   "cell_type": "code",
   "execution_count": 22,
   "id": "8bacd78e",
   "metadata": {},
   "outputs": [
    {
     "data": {
      "text/plain": [
       "array([1, 1, 1, 7, 5, 6])"
      ]
     },
     "execution_count": 22,
     "metadata": {},
     "output_type": "execute_result"
    }
   ],
   "source": [
    "a3[0:3]= 1;\n",
    "a3"
   ]
  },
  {
   "cell_type": "code",
   "execution_count": 23,
   "id": "6fad9807",
   "metadata": {},
   "outputs": [
    {
     "data": {
      "text/plain": [
       "array([1, 9, 8, 7, 5, 6])"
      ]
     },
     "execution_count": 23,
     "metadata": {},
     "output_type": "execute_result"
    }
   ],
   "source": [
    "a3[1:4] = [9,8,7]\n",
    "a3"
   ]
  },
  {
   "cell_type": "code",
   "execution_count": 24,
   "id": "85afde91",
   "metadata": {},
   "outputs": [
    {
     "data": {
      "text/plain": [
       "array([[0., 0.],\n",
       "       [0., 0.]])"
      ]
     },
     "execution_count": 24,
     "metadata": {},
     "output_type": "execute_result"
    }
   ],
   "source": [
    "mat4 = np.zeros((2,2))\n",
    "mat4"
   ]
  },
  {
   "cell_type": "code",
   "execution_count": 26,
   "id": "f1f9d4c8",
   "metadata": {},
   "outputs": [
    {
     "data": {
      "text/plain": [
       "array([[1., 2.],\n",
       "       [3., 4.]])"
      ]
     },
     "execution_count": 26,
     "metadata": {},
     "output_type": "execute_result"
    }
   ],
   "source": [
    "mat4[(0,0)]=1\n",
    "mat4[(0,1)] = 2\n",
    "mat4[(1,0)] = 3\n",
    "mat4[(1,1)] = 4\n",
    "mat4"
   ]
  },
  {
   "cell_type": "code",
   "execution_count": 27,
   "id": "0f54d7cc",
   "metadata": {},
   "outputs": [
    {
     "data": {
      "text/plain": [
       "array([[3., 4.],\n",
       "       [5., 6.]])"
      ]
     },
     "execution_count": 27,
     "metadata": {},
     "output_type": "execute_result"
    }
   ],
   "source": [
    "mat4+2"
   ]
  },
  {
   "cell_type": "code",
   "execution_count": 28,
   "id": "43f101fb",
   "metadata": {},
   "outputs": [
    {
     "data": {
      "text/plain": [
       "array([[-1.,  0.],\n",
       "       [ 1.,  2.]])"
      ]
     },
     "execution_count": 28,
     "metadata": {},
     "output_type": "execute_result"
    }
   ],
   "source": [
    "mat4 - 2"
   ]
  },
  {
   "cell_type": "code",
   "execution_count": 29,
   "id": "f7dc6067",
   "metadata": {},
   "outputs": [
    {
     "data": {
      "text/plain": [
       "array([[2., 4.],\n",
       "       [6., 8.]])"
      ]
     },
     "execution_count": 29,
     "metadata": {},
     "output_type": "execute_result"
    }
   ],
   "source": [
    "mat4*2"
   ]
  },
  {
   "cell_type": "code",
   "execution_count": 30,
   "id": "548c6b6f",
   "metadata": {},
   "outputs": [
    {
     "data": {
      "text/plain": [
       "array([[0.5, 1. ],\n",
       "       [1.5, 2. ]])"
      ]
     },
     "execution_count": 30,
     "metadata": {},
     "output_type": "execute_result"
    }
   ],
   "source": [
    "mat4/2"
   ]
  },
  {
   "cell_type": "code",
   "execution_count": 31,
   "id": "e02c8ca7",
   "metadata": {},
   "outputs": [
    {
     "data": {
      "text/plain": [
       "array([[ 1.,  4.],\n",
       "       [ 9., 16.]])"
      ]
     },
     "execution_count": 31,
     "metadata": {},
     "output_type": "execute_result"
    }
   ],
   "source": [
    "mat4**2"
   ]
  },
  {
   "cell_type": "code",
   "execution_count": 32,
   "id": "6cd1b951",
   "metadata": {},
   "outputs": [
    {
     "data": {
      "text/plain": [
       "array([[2., 4.],\n",
       "       [6., 8.]])"
      ]
     },
     "execution_count": 32,
     "metadata": {},
     "output_type": "execute_result"
    }
   ],
   "source": [
    "2*mat4"
   ]
  },
  {
   "cell_type": "code",
   "execution_count": null,
   "id": "3ffeec15",
   "metadata": {},
   "outputs": [],
   "source": []
  }
 ],
 "metadata": {
  "kernelspec": {
   "display_name": "Python 3 (ipykernel)",
   "language": "python",
   "name": "python3"
  },
  "language_info": {
   "codemirror_mode": {
    "name": "ipython",
    "version": 3
   },
   "file_extension": ".py",
   "mimetype": "text/x-python",
   "name": "python",
   "nbconvert_exporter": "python",
   "pygments_lexer": "ipython3",
   "version": "3.10.6"
  }
 },
 "nbformat": 4,
 "nbformat_minor": 5
}
