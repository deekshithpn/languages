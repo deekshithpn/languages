{
 "cells": [
  {
   "cell_type": "markdown",
   "id": "97dab664",
   "metadata": {},
   "source": [
    "# Chapter 5: Iteration\n",
    "\n",
    "## For Loops\n",
    "\n",
    "- are referred to as **definite loops**\n",
    "- **Syntax** <br>\n",
    "    **for** loopin_variable **in** sequence\n",
    "- **range**: range(start, stop, step)"
   ]
  },
  {
   "cell_type": "code",
   "execution_count": 4,
   "id": "899b578b",
   "metadata": {},
   "outputs": [
    {
     "name": "stdout",
     "output_type": "stream",
     "text": [
      "6\n"
     ]
    }
   ],
   "source": [
    "# sum of first 10 integers\n",
    "n = 0\n",
    "for i in range(1,4):\n",
    "    n = n+i\n",
    "    \n",
    "print(n)"
   ]
  },
  {
   "cell_type": "code",
   "execution_count": 5,
   "id": "5d538a4e",
   "metadata": {},
   "outputs": [
    {
     "name": "stdout",
     "output_type": "stream",
     "text": [
      "B\n",
      "a\n",
      "n\n",
      "a\n",
      "n\n",
      "a\n"
     ]
    }
   ],
   "source": [
    "for c in \"Banana\":\n",
    "    print(c)\n",
    "    \n"
   ]
  },
  {
   "cell_type": "code",
   "execution_count": 33,
   "id": "18f5f037",
   "metadata": {},
   "outputs": [
    {
     "name": "stdout",
     "output_type": "stream",
     "text": [
      "12\n"
     ]
    }
   ],
   "source": [
    "s = 0\n",
    "a = [2, 3, 1, 3, 3]\n",
    "for i in a:\n",
    "    s = s+i\n",
    "    \n",
    "print(s)"
   ]
  },
  {
   "cell_type": "code",
   "execution_count": 32,
   "id": "d1138f62",
   "metadata": {},
   "outputs": [
    {
     "data": {
      "text/plain": [
       "12"
      ]
     },
     "execution_count": 32,
     "metadata": {},
     "output_type": "execute_result"
    }
   ],
   "source": [
    "a = [2, 3, 1, 3, 3]\n",
    "sum(a)"
   ]
  },
  {
   "cell_type": "markdown",
   "id": "ad17f471",
   "metadata": {},
   "source": [
    "- **s += i** is equivalent to **s = s+i**\n",
    "- **s -= i** is equivalent to **s = s-i**\n",
    "- **s *= i** is equivalent to **s = s*i**\n",
    "- **s /= i** is equivalent to **s = s/i**"
   ]
  },
  {
   "cell_type": "code",
   "execution_count": 52,
   "id": "28c5dd95",
   "metadata": {},
   "outputs": [
    {
     "name": "stdout",
     "output_type": "stream",
     "text": [
      "One 1\n",
      "Two 2\n",
      "Three 3\n",
      "6\n"
     ]
    }
   ],
   "source": [
    "dict_a = {\"One\":1, \"Two\":2, \"Three\":3}\n",
    "sum = 0\n",
    "for i in dict_a.keys():\n",
    "    sum += dict_a[i]\n",
    "    print(i, dict_a[i])\n",
    "    \n",
    "print(sum)"
   ]
  },
  {
   "cell_type": "code",
   "execution_count": 48,
   "id": "152da39e",
   "metadata": {},
   "outputs": [
    {
     "data": {
      "text/plain": [
       "dict_items([('One', 1), ('Two', 2), ('Three', 3)])"
      ]
     },
     "execution_count": 48,
     "metadata": {},
     "output_type": "execute_result"
    }
   ],
   "source": [
    "dict_a.items()"
   ]
  },
  {
   "cell_type": "markdown",
   "id": "47070620",
   "metadata": {},
   "source": [
    "### Simultaneous assignment in a for loop\n",
    "- **zip function** creates a list of tuples.\n",
    "- **isdigit** <u>*method*</u> \n",
    "    - char_name.isdigit()\n",
    "    - tells if a character c is a digit.\n",
    "- **break**:= the break keyword immediately stops the most immediate for-loop that contains it.\n",
    "- **continue**:= goes to the next iteration.\n",
    "- **sum(list_name)** function works only with lists and strings"
   ]
  },
  {
   "cell_type": "code",
   "execution_count": 54,
   "id": "5202e6ff",
   "metadata": {},
   "outputs": [
    {
     "name": "stdout",
     "output_type": "stream",
     "text": [
      "One 1\n",
      "Two 2\n",
      "Three 3\n"
     ]
    }
   ],
   "source": [
    "dict_a = {\"One\":1, \"Two\":2, \"Three\":3}\n",
    "for key,value in dict_a.items():\n",
    "    print(key, value)"
   ]
  },
  {
   "cell_type": "code",
   "execution_count": 61,
   "id": "d40fd6e2",
   "metadata": {},
   "outputs": [
    {
     "name": "stdout",
     "output_type": "stream",
     "text": [
      "One 1\n",
      "Two 2\n",
      "Three 3\n"
     ]
    }
   ],
   "source": [
    "a = [\"One\", \"Two\", \"Three\"]\n",
    "b = [1, 2, 3]\n",
    "for i, j in zip(a, b):\n",
    "    print(i, j)"
   ]
  },
  {
   "cell_type": "code",
   "execution_count": 67,
   "id": "bc8be6ce",
   "metadata": {},
   "outputs": [
    {
     "name": "stdout",
     "output_type": "stream",
     "text": [
      "1\n",
      "0\n"
     ]
    }
   ],
   "source": [
    "def have_digits(s):\n",
    "    for c in s:\n",
    "        if c.isdigit()==1:\n",
    "            out = 1\n",
    "            break\n",
    "        else:\n",
    "            out = 0\n",
    "    return out\n",
    "out = have_digits(\"only4you\")\n",
    "print(out)\n",
    "del out\n",
    "out = have_digits(\"only for you\")\n",
    "print(out)"
   ]
  },
  {
   "cell_type": "code",
   "execution_count": 69,
   "id": "9a5d7c98",
   "metadata": {},
   "outputs": [
    {
     "name": "stdout",
     "output_type": "stream",
     "text": [
      "0\n",
      "1\n",
      "2\n",
      "4\n",
      "5\n"
     ]
    }
   ],
   "source": [
    "# Print numbers from 0 to 5 except number 3\n",
    "for i in range(0,6):\n",
    "    if i ==3:\n",
    "        continue\n",
    "    else:\n",
    "        print(i)\n",
    "        "
   ]
  },
  {
   "cell_type": "code",
   "execution_count": 71,
   "id": "4bbe71f2",
   "metadata": {},
   "outputs": [
    {
     "data": {
      "text/plain": [
       "[2.0, 1.4142135623730951, 1.0]"
      ]
     },
     "execution_count": 71,
     "metadata": {},
     "output_type": "execute_result"
    }
   ],
   "source": [
    "import numpy as np\n",
    "import math\n",
    "def my_dist_2_points(xy_points, xy):\n",
    "    d= []\n",
    "    j = np.array(xy)\n",
    "    for i in xy_points:\n",
    "        i = np.array(i)\n",
    "        k = i-j\n",
    "        d.append(math.sqrt(k.dot(k)))\n",
    "    return d\n",
    "xy_points = [[3,2], [2, 3], [2, 2]]\n",
    "xy = [1, 2]\n",
    "my_dist_2_points(xy_points, xy)"
   ]
  },
  {
   "cell_type": "code",
   "execution_count": 79,
   "id": "a72a05d5",
   "metadata": {},
   "outputs": [
    {
     "name": "stdout",
     "output_type": "stream",
     "text": [
      "26\n"
     ]
    }
   ],
   "source": [
    "import numpy as np\n",
    "import math\n",
    "x = np.array([[5, 6],[7,8]])\n",
    "rows,cols = x.shape\n",
    "s = 0\n",
    "for i in range(rows):\n",
    "    for j in range(cols):\n",
    "        s += x[(i,j)]\n",
    "        \n",
    "print(s)"
   ]
  },
  {
   "cell_type": "markdown",
   "id": "e11a5892",
   "metadata": {},
   "source": [
    "### While loops:\n",
    "- Indefinite loop\n",
    "- **Syntax**\n",
    "    - while Logical_expression:<br/>\n",
    "        code block\n",
    "    "
   ]
  },
  {
   "cell_type": "markdown",
   "id": "4f8ee9b3",
   "metadata": {},
   "source": [
    "### Comprehensions\n",
    "- **Syntax**<br/>\n",
    "    [Output Input_sequence_Conditions]"
   ]
  },
  {
   "cell_type": "code",
   "execution_count": 4,
   "id": "72d208ee",
   "metadata": {},
   "outputs": [
    {
     "data": {
      "text/plain": [
       "[0, 1, 4, 9, 16]"
      ]
     },
     "execution_count": 4,
     "metadata": {},
     "output_type": "execute_result"
    }
   ],
   "source": [
    "x = range(5)\n",
    "y = []\n",
    "for i in x:\n",
    "    y.append(i**2) \n",
    "    \n",
    "y"
   ]
  },
  {
   "cell_type": "code",
   "execution_count": 6,
   "id": "7d39f43c",
   "metadata": {},
   "outputs": [
    {
     "data": {
      "text/plain": [
       "[0, 1, 4, 9, 16]"
      ]
     },
     "execution_count": 6,
     "metadata": {},
     "output_type": "execute_result"
    }
   ],
   "source": [
    "y = [i*i for i in range(5)]\n",
    "y"
   ]
  },
  {
   "cell_type": "code",
   "execution_count": 7,
   "id": "3fd249d9",
   "metadata": {},
   "outputs": [
    {
     "data": {
      "text/plain": [
       "[0, 4, 16, 36, 64]"
      ]
     },
     "execution_count": 7,
     "metadata": {},
     "output_type": "execute_result"
    }
   ],
   "source": [
    "y = [i*i for i in range(10) if i%2 ==0]\n",
    "y"
   ]
  },
  {
   "cell_type": "code",
   "execution_count": 8,
   "id": "e131f532",
   "metadata": {},
   "outputs": [
    {
     "data": {
      "text/plain": [
       "[0, 1, 1, 2, 2, 3, 3, 4, 4, 5]"
      ]
     },
     "execution_count": 8,
     "metadata": {},
     "output_type": "execute_result"
    }
   ],
   "source": [
    "y = [i+j for i in range(5) for j in range(2)]\n",
    "y"
   ]
  },
  {
   "cell_type": "code",
   "execution_count": 9,
   "id": "5a294d75",
   "metadata": {},
   "outputs": [
    {
     "data": {
      "text/plain": [
       "{'a': 1, 'b': 2, 'c': 3}"
      ]
     },
     "execution_count": 9,
     "metadata": {},
     "output_type": "execute_result"
    }
   ],
   "source": [
    "a = {'a':1,\"b\":2,\"c\":3}\n",
    "a"
   ]
  },
  {
   "cell_type": "code",
   "execution_count": 13,
   "id": "41440710",
   "metadata": {},
   "outputs": [
    {
     "data": {
      "text/plain": [
       "{'a': 1, 'b': 8, 'c': 27}"
      ]
     },
     "execution_count": 13,
     "metadata": {},
     "output_type": "execute_result"
    }
   ],
   "source": [
    "b = {key:value**3 for key,value in a.items()}\n",
    "b"
   ]
  },
  {
   "cell_type": "code",
   "execution_count": null,
   "id": "f234d06b",
   "metadata": {},
   "outputs": [],
   "source": []
  }
 ],
 "metadata": {
  "kernelspec": {
   "display_name": "Python 3 (ipykernel)",
   "language": "python",
   "name": "python3"
  },
  "language_info": {
   "codemirror_mode": {
    "name": "ipython",
    "version": 3
   },
   "file_extension": ".py",
   "mimetype": "text/x-python",
   "name": "python",
   "nbconvert_exporter": "python",
   "pygments_lexer": "ipython3",
   "version": "3.10.6"
  }
 },
 "nbformat": 4,
 "nbformat_minor": 5
}
