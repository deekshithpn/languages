{
 "cells": [
  {
   "cell_type": "markdown",
   "id": "459374bf",
   "metadata": {},
   "source": [
    "### If statement \n",
    "- **Syntax** <br>\n",
    "    if logical expression: <br>\n",
    "    &emsp;code block<br>\n",
    "        <br>\n",
    "    if logical expression:<br>\n",
    "        &emsp; code block1<br>\n",
    "    else:<br>\n",
    "        &emsp;code block2<br>\n",
    "- **syntax for multiple statements(ELIF)** <br>\n",
    "    if logica expression1:<br>\n",
    "        &emsp;code block 1<br>\n",
    "    elif logical expression2:<br>\n",
    "        &emsp;code block 2 <br>\n",
    "    else logical epxression3:<br>\n",
    "        &emsp;code block 3<br>\n",
    "- conditional statements\n",
    "- Python allows you to type a < x < b as well."
   ]
  },
  {
   "cell_type": "code",
   "execution_count": 4,
   "id": "fb640b7c",
   "metadata": {},
   "outputs": [
    {
     "name": "stdout",
     "output_type": "stream",
     "text": [
      "Heat\n"
     ]
    }
   ],
   "source": [
    "# MY ATTEMPT\n",
    "def my_thermo_stat(temp,desired_temp):\n",
    "    if desired_temp + 5 < temp:\n",
    "        print(\"AC\")\n",
    "    elif desired_temp - 5 > temp:\n",
    "        print(\"Heat\")\n",
    "    else:\n",
    "        print(\"Off\")\n",
    "        \n",
    "my_thermo_stat(65,75)\n",
    "        "
   ]
  },
  {
   "cell_type": "code",
   "execution_count": 5,
   "id": "bf0d883a",
   "metadata": {},
   "outputs": [
    {
     "name": "stdout",
     "output_type": "stream",
     "text": [
      "AC\n"
     ]
    }
   ],
   "source": [
    "my_thermo_stat(75,65)"
   ]
  },
  {
   "cell_type": "code",
   "execution_count": 6,
   "id": "3f44df50",
   "metadata": {},
   "outputs": [
    {
     "name": "stdout",
     "output_type": "stream",
     "text": [
      "Off\n"
     ]
    }
   ],
   "source": [
    "my_thermo_stat(65,63)"
   ]
  },
  {
   "cell_type": "markdown",
   "id": "46326c09",
   "metadata": {},
   "source": [
    "- **any(list/tuple etc)** returns true if any element is true. else returns false\n",
    "- **all(list/tuple etc)** returns true if all elements are true. else returns false\n",
    "- **isinstance(variable_name,(datatype1, datatype2 etc))** returns true if variable_name has the data types mentioned.\n",
    "- **raise** statement: used to stop the executin of a program with an error message.\n",
    "- **TypeError** : it is one of the \"exceptions\" which will be studied in chaptter 10 later.\n",
    "- usage of **not**"
   ]
  },
  {
   "cell_type": "code",
   "execution_count": 17,
   "id": "0c2338bf",
   "metadata": {},
   "outputs": [
    {
     "data": {
      "text/plain": [
       "6"
      ]
     },
     "execution_count": 17,
     "metadata": {},
     "output_type": "execute_result"
    }
   ],
   "source": [
    "def my_adder(a,b,c):\n",
    "    if not (isinstance(a,(int,float)) \\\n",
    "           or isinstance(b,(int,float)) \\\n",
    "           or isinstance(c,(int,float))):\n",
    "        raise TypeError(\"The inputs must be numbers only\")\n",
    "    else :\n",
    "        return a+b+c\n",
    "my_adder(1,2,3)"
   ]
  },
  {
   "cell_type": "code",
   "execution_count": 18,
   "id": "c0fc1b7c",
   "metadata": {},
   "outputs": [
    {
     "ename": "TypeError",
     "evalue": "The inputs must be numbers only",
     "output_type": "error",
     "traceback": [
      "\u001b[0;31m---------------------------------------------------------------------------\u001b[0m",
      "\u001b[0;31mTypeError\u001b[0m                                 Traceback (most recent call last)",
      "Cell \u001b[0;32mIn[18], line 1\u001b[0m\n\u001b[0;32m----> 1\u001b[0m \u001b[43mmy_adder\u001b[49m\u001b[43m(\u001b[49m\u001b[38;5;124;43m\"\u001b[39;49m\u001b[38;5;124;43ma\u001b[39;49m\u001b[38;5;124;43m\"\u001b[39;49m\u001b[43m,\u001b[49m\u001b[38;5;124;43m\"\u001b[39;49m\u001b[38;5;124;43mb\u001b[39;49m\u001b[38;5;124;43m\"\u001b[39;49m\u001b[43m,\u001b[49m\u001b[38;5;124;43m\"\u001b[39;49m\u001b[38;5;124;43mc\u001b[39;49m\u001b[38;5;124;43m\"\u001b[39;49m\u001b[43m)\u001b[49m\n",
      "Cell \u001b[0;32mIn[17], line 5\u001b[0m, in \u001b[0;36mmy_adder\u001b[0;34m(a, b, c)\u001b[0m\n\u001b[1;32m      1\u001b[0m \u001b[38;5;28;01mdef\u001b[39;00m \u001b[38;5;21mmy_adder\u001b[39m(a,b,c):\n\u001b[1;32m      2\u001b[0m     \u001b[38;5;28;01mif\u001b[39;00m \u001b[38;5;129;01mnot\u001b[39;00m (\u001b[38;5;28misinstance\u001b[39m(a,(\u001b[38;5;28mint\u001b[39m,\u001b[38;5;28mfloat\u001b[39m)) \\\n\u001b[1;32m      3\u001b[0m            \u001b[38;5;129;01mor\u001b[39;00m \u001b[38;5;28misinstance\u001b[39m(b,(\u001b[38;5;28mint\u001b[39m,\u001b[38;5;28mfloat\u001b[39m)) \\\n\u001b[1;32m      4\u001b[0m            \u001b[38;5;129;01mor\u001b[39;00m \u001b[38;5;28misinstance\u001b[39m(c,(\u001b[38;5;28mint\u001b[39m,\u001b[38;5;28mfloat\u001b[39m))):\n\u001b[0;32m----> 5\u001b[0m         \u001b[38;5;28;01mraise\u001b[39;00m \u001b[38;5;167;01mTypeError\u001b[39;00m(\u001b[38;5;124m\"\u001b[39m\u001b[38;5;124mThe inputs must be numbers only\u001b[39m\u001b[38;5;124m\"\u001b[39m)\n\u001b[1;32m      6\u001b[0m     \u001b[38;5;28;01melse\u001b[39;00m :\n\u001b[1;32m      7\u001b[0m         \u001b[38;5;28;01mreturn\u001b[39;00m a\u001b[38;5;241m+\u001b[39mb\u001b[38;5;241m+\u001b[39mc\n",
      "\u001b[0;31mTypeError\u001b[0m: The inputs must be numbers only"
     ]
    }
   ],
   "source": [
    "my_adder(\"a\",\"b\",\"c\")"
   ]
  },
  {
   "cell_type": "code",
   "execution_count": 20,
   "id": "9cebf189",
   "metadata": {},
   "outputs": [
    {
     "data": {
      "text/plain": [
       "'odd'"
      ]
     },
     "execution_count": 20,
     "metadata": {},
     "output_type": "execute_result"
    }
   ],
   "source": [
    "def is_odd(a):\n",
    "    if a%2 == 0:\n",
    "        return \"even\"\n",
    "    else:\n",
    "        return \"odd\"\n",
    "is_odd(11)\n",
    "    "
   ]
  },
  {
   "cell_type": "code",
   "execution_count": 21,
   "id": "f2d63ed0",
   "metadata": {},
   "outputs": [
    {
     "data": {
      "text/plain": [
       "19.634954084936208"
      ]
     },
     "execution_count": 21,
     "metadata": {},
     "output_type": "execute_result"
    }
   ],
   "source": [
    "import numpy as np\n",
    "def my_circ_calc(r,what):\n",
    "    if what == \"area\":\n",
    "        return np.pi*r*r\n",
    "    elif what == \"circumference\":\n",
    "        return np.pi * 2 * r\n",
    "my_circ_calc(2.5, \"area\")"
   ]
  },
  {
   "cell_type": "code",
   "execution_count": 22,
   "id": "89d854e3",
   "metadata": {},
   "outputs": [
    {
     "data": {
      "text/plain": [
       "18.84955592153876"
      ]
     },
     "execution_count": 22,
     "metadata": {},
     "output_type": "execute_result"
    }
   ],
   "source": [
    "my_circ_calc(3, \"circumference\")"
   ]
  },
  {
   "cell_type": "markdown",
   "id": "8191a1fb",
   "metadata": {},
   "source": [
    "### Ternary operators \n",
    "- **ternary operators also called as conditional expressions**\n",
    "- **syntax:**<br>\n",
    "    expression_if_true **if** condition **else** expression_if_false"
   ]
  },
  {
   "cell_type": "code",
   "execution_count": 24,
   "id": "4f1483a3",
   "metadata": {},
   "outputs": [
    {
     "name": "stdout",
     "output_type": "stream",
     "text": [
      "Student\n"
     ]
    }
   ],
   "source": [
    "is_student = True\n",
    "Person_status = \"Student\" if is_student else \"Not a student\"\n",
    "print(Person_status)"
   ]
  },
  {
   "cell_type": "code",
   "execution_count": null,
   "id": "ffc0f61d",
   "metadata": {},
   "outputs": [],
   "source": []
  }
 ],
 "metadata": {
  "kernelspec": {
   "display_name": "Python 3 (ipykernel)",
   "language": "python",
   "name": "python3"
  },
  "language_info": {
   "codemirror_mode": {
    "name": "ipython",
    "version": 3
   },
   "file_extension": ".py",
   "mimetype": "text/x-python",
   "name": "python",
   "nbconvert_exporter": "python",
   "pygments_lexer": "ipython3",
   "version": "3.10.6"
  }
 },
 "nbformat": 4,
 "nbformat_minor": 5
}
