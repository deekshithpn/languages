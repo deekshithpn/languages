{
 "cells": [
  {
   "cell_type": "code",
   "execution_count": 4,
   "id": "f56d5465",
   "metadata": {},
   "outputs": [
    {
     "name": "stdout",
     "output_type": "stream",
     "text": [
      "0.0\n"
     ]
    }
   ],
   "source": [
    "import numpy as np\n",
    "def my_sinh(x):\n",
    "    y = (np.exp(x)-np.exp(-x))/2\n",
    "    return y\n",
    "print(my_sinh(0))"
   ]
  },
  {
   "cell_type": "code",
   "execution_count": 5,
   "id": "1882b44f",
   "metadata": {},
   "outputs": [
    {
     "data": {
      "text/plain": [
       "1.1752011936438014"
      ]
     },
     "execution_count": 5,
     "metadata": {},
     "output_type": "execute_result"
    }
   ],
   "source": [
    "my_sinh(1)"
   ]
  },
  {
   "cell_type": "code",
   "execution_count": 7,
   "id": "9a4107d6",
   "metadata": {},
   "outputs": [
    {
     "data": {
      "text/plain": [
       "3.626860407847019"
      ]
     },
     "execution_count": 7,
     "metadata": {},
     "output_type": "execute_result"
    }
   ],
   "source": [
    "my_sinh(2)"
   ]
  },
  {
   "cell_type": "markdown",
   "id": "14f70464",
   "metadata": {},
   "source": [
    "#### Q2: Creating a checkered board"
   ]
  },
  {
   "cell_type": "code",
   "execution_count": 20,
   "id": "19d50504",
   "metadata": {},
   "outputs": [
    {
     "data": {
      "text/plain": [
       "array([[1., 0., 1., 0., 1.],\n",
       "       [0., 1., 0., 1., 0.],\n",
       "       [1., 0., 1., 0., 1.],\n",
       "       [0., 1., 0., 1., 0.],\n",
       "       [1., 0., 1., 0., 1.]])"
      ]
     },
     "execution_count": 20,
     "metadata": {},
     "output_type": "execute_result"
    }
   ],
   "source": [
    "import numpy as np\n",
    "def my_checker_board(n):\n",
    "    m = np.ones((n,n))\n",
    "    m[1::2,0::2] = 0\n",
    "    m[0::2,1::2] = 0\n",
    "    return m\n",
    "\n",
    "my_checker_board(5)"
   ]
  },
  {
   "cell_type": "markdown",
   "id": "fc31c7b7",
   "metadata": {},
   "source": [
    "#### Q3"
   ]
  },
  {
   "cell_type": "code",
   "execution_count": 22,
   "id": "5dd8ae39",
   "metadata": {},
   "outputs": [
    {
     "name": "stdout",
     "output_type": "stream",
     "text": [
      "0.5\n",
      "1.0\n",
      "30.0\n"
     ]
    }
   ],
   "source": [
    "def my_triangle(b,h):\n",
    "    area = 1/2*b*h\n",
    "    return area\n",
    "print(f\"{my_triangle(1,1)}\")\n",
    "print(f\"{my_triangle(2,1)}\")\n",
    "print(f\"{my_triangle(12,5)}\")"
   ]
  },
  {
   "cell_type": "markdown",
   "id": "6f2145e9",
   "metadata": {},
   "source": [
    "### Q4"
   ]
  },
  {
   "cell_type": "code",
   "execution_count": 36,
   "id": "d422d6c4",
   "metadata": {},
   "outputs": [
    {
     "name": "stdout",
     "output_type": "stream",
     "text": [
      "1\n",
      "[array([[1, 2],\n",
      "       [4, 5],\n",
      "       [7, 8]]), array([[3],\n",
      "       [6],\n",
      "       [9]])]\n"
     ]
    }
   ],
   "source": [
    "import numpy as np\n",
    "def my_split_matrix(m):\n",
    "    index = int((np.shape(m)[0]+1)/2)-1\n",
    "    print(index)\n",
    "    m1 = m[:,:index+1]\n",
    "    m2 = m[:,index+1:]\n",
    "    return [m1,m2]\n",
    "m = np.array([[1, 2, 3], [4, 5, 6], [7, 8, 9]]);\n",
    "print(my_split_matrix(m))"
   ]
  },
  {
   "cell_type": "code",
   "execution_count": 38,
   "id": "ac740d1d",
   "metadata": {},
   "outputs": [
    {
     "name": "stdout",
     "output_type": "stream",
     "text": [
      "2\n",
      "[array([[1., 1., 1.],\n",
      "       [1., 1., 1.],\n",
      "       [1., 1., 1.],\n",
      "       [1., 1., 1.],\n",
      "       [1., 1., 1.]]), array([[1., 1.],\n",
      "       [1., 1.],\n",
      "       [1., 1.],\n",
      "       [1., 1.],\n",
      "       [1., 1.]])]\n"
     ]
    }
   ],
   "source": [
    "m = np.ones((5, 5))\n",
    "print(my_split_matrix(m))"
   ]
  },
  {
   "cell_type": "markdown",
   "id": "86bd2f67",
   "metadata": {},
   "source": [
    "### Q5"
   ]
  },
  {
   "cell_type": "code",
   "execution_count": 40,
   "id": "365b8d12",
   "metadata": {},
   "outputs": [
    {
     "name": "stdout",
     "output_type": "stream",
     "text": [
      "[37.69911184307752, 15.707963267948966] [75.39822368615503, 50.26548245743669]\n"
     ]
    }
   ],
   "source": [
    "import numpy as np\n",
    "def my_cylinder(r,h):\n",
    "    area1 = 2 * np.pi * r * h\n",
    "    area2 = 2* np.pi * r**2\n",
    "    area = area1 + area2\n",
    "    volume = np.pi * r**2 * h\n",
    "    return [area, volume]\n",
    "print(my_cylinder(1,5), my_cylinder(2,4))"
   ]
  },
  {
   "cell_type": "markdown",
   "id": "f90fa042",
   "metadata": {},
   "source": [
    "### Q6"
   ]
  },
  {
   "cell_type": "code",
   "execution_count": 50,
   "id": "95d6e5a7",
   "metadata": {},
   "outputs": [
    {
     "name": "stdout",
     "output_type": "stream",
     "text": [
      "50 0\n"
     ]
    }
   ],
   "source": [
    "import numpy as np \n",
    "def my_n_odds(a):\n",
    "    num =  np.size(a[a%2!=0])\n",
    "    return num\n",
    "print(my_n_odds(np.arange(100)),my_n_odds(np.arange(2, 100, 2)))\n",
    "    \n"
   ]
  },
  {
   "cell_type": "markdown",
   "id": "f5d08391",
   "metadata": {},
   "source": [
    "### Q7"
   ]
  },
  {
   "cell_type": "code",
   "execution_count": 52,
   "id": "2d254b8c",
   "metadata": {},
   "outputs": [
    {
     "name": "stdout",
     "output_type": "stream",
     "text": [
      "[[2. 2.]\n",
      " [2. 2.]\n",
      " [2. 2.]] [[2. 2. 2. 2.]]\n"
     ]
    }
   ],
   "source": [
    "def my_twos(m,n):\n",
    "    mat = np.ones([m,n])*2\n",
    "    return mat\n",
    "\n",
    "print(my_twos(3,2),my_twos(1, 4))"
   ]
  },
  {
   "cell_type": "markdown",
   "id": "b7fdbbd4",
   "metadata": {},
   "source": [
    "### Q8"
   ]
  },
  {
   "cell_type": "code",
   "execution_count": 53,
   "id": "3a81eea8",
   "metadata": {},
   "outputs": [
    {
     "data": {
      "text/plain": [
       "-2"
      ]
     },
     "execution_count": 53,
     "metadata": {},
     "output_type": "execute_result"
    }
   ],
   "source": [
    "my_difference = lambda x,y:x-y\n",
    "my_difference(3,5)"
   ]
  },
  {
   "cell_type": "markdown",
   "id": "ccd00e3b",
   "metadata": {},
   "source": [
    "### Q9"
   ]
  },
  {
   "cell_type": "code",
   "execution_count": 54,
   "id": "e8a4b0d1",
   "metadata": {},
   "outputs": [
    {
     "data": {
      "text/plain": [
       "'Programming is fun!'"
      ]
     },
     "execution_count": 54,
     "metadata": {},
     "output_type": "execute_result"
    }
   ],
   "source": [
    "add_string = lambda s1 , s2: s1+s2\n",
    "s1 = add_string(\"Programming\", \" \")\n",
    "s2 = add_string(\"is \", \"fun!\")\n",
    "add_string(s1, s2)"
   ]
  },
  {
   "cell_type": "markdown",
   "id": "2fbf1800",
   "metadata": {},
   "source": [
    "### Q10"
   ]
  },
  {
   "cell_type": "code",
   "execution_count": 55,
   "id": "e1e64345",
   "metadata": {},
   "outputs": [
    {
     "ename": "IndentationError",
     "evalue": "expected an indented block after function definition on line 2 (2236689589.py, line 3)",
     "output_type": "error",
     "traceback": [
      "\u001b[0;36m  Cell \u001b[0;32mIn[55], line 3\u001b[0;36m\u001b[0m\n\u001b[0;31m    num =  np.size(a[a%2!=0])\u001b[0m\n\u001b[0m    ^\u001b[0m\n\u001b[0;31mIndentationError\u001b[0m\u001b[0;31m:\u001b[0m expected an indented block after function definition on line 2\n"
     ]
    }
   ],
   "source": [
    "import numpy as np \n",
    "def my_n_odds(a):\n",
    "num =  np.size(a[a%2!=0])\n",
    "return num\n",
    "print(my_n_odds(np.arange(100)),my_n_odds(np.arange(2, 100, 2)))"
   ]
  },
  {
   "cell_type": "code",
   "execution_count": 58,
   "id": "91f61d0f",
   "metadata": {},
   "outputs": [
    {
     "ename": "TypeError",
     "evalue": "my_n_odds() missing 1 required positional argument: 'a'",
     "output_type": "error",
     "traceback": [
      "\u001b[0;31m---------------------------------------------------------------------------\u001b[0m",
      "\u001b[0;31mTypeError\u001b[0m                                 Traceback (most recent call last)",
      "Cell \u001b[0;32mIn[58], line 5\u001b[0m\n\u001b[1;32m      3\u001b[0m     num \u001b[38;5;241m=\u001b[39m  np\u001b[38;5;241m.\u001b[39msize(a[a\u001b[38;5;241m%\u001b[39m\u001b[38;5;241m2\u001b[39m\u001b[38;5;241m!=\u001b[39m\u001b[38;5;241m0\u001b[39m])\n\u001b[1;32m      4\u001b[0m     \u001b[38;5;28;01mreturn\u001b[39;00m num\n\u001b[0;32m----> 5\u001b[0m \u001b[38;5;28mprint\u001b[39m(\u001b[43mmy_n_odds\u001b[49m\u001b[43m(\u001b[49m\u001b[43m)\u001b[49m)\n",
      "\u001b[0;31mTypeError\u001b[0m: my_n_odds() missing 1 required positional argument: 'a'"
     ]
    }
   ],
   "source": [
    "import numpy as np \n",
    "def my_n_odds(a):\n",
    "    num =  np.size(a[a%2!=0])\n",
    "    return num\n",
    "print(my_n_odds())\n",
    "    "
   ]
  },
  {
   "cell_type": "markdown",
   "id": "bdbba8ad",
   "metadata": {},
   "source": [
    "### Q11"
   ]
  },
  {
   "cell_type": "code",
   "execution_count": 65,
   "id": "1ec55f2d",
   "metadata": {},
   "outputs": [
    {
     "name": "stdout",
     "output_type": "stream",
     "text": [
      "Hi, my name is John and I am 26 years old.\n",
      "<class 'int'>\n"
     ]
    }
   ],
   "source": [
    "def greeting(name = \"XXX\", age = \"XXX\"):\n",
    "    print(f\"Hi, my name is {name} and I am {age} years old.\")\n",
    "    print(type(age))\n",
    "\n",
    "greeting(\"John\", 26)"
   ]
  },
  {
   "cell_type": "markdown",
   "id": "3530ca92",
   "metadata": {},
   "source": [
    "### Q12"
   ]
  },
  {
   "cell_type": "code",
   "execution_count": 67,
   "id": "5dfe56cc",
   "metadata": {},
   "outputs": [
    {
     "data": {
      "text/plain": [
       "array([ 9.42477796, 37.69911184, 84.82300165])"
      ]
     },
     "execution_count": 67,
     "metadata": {},
     "output_type": "execute_result"
    }
   ],
   "source": [
    "import numpy as np\n",
    "def my_donut_area(r1, r2):\n",
    "    area = np.pi*((r2*r2)-(r1*r1))\n",
    "    return area\n",
    "my_donut_area(np.arange(1, 4), np.arange(2, 7, 2))"
   ]
  },
  {
   "cell_type": "markdown",
   "id": "8b894bcb",
   "metadata": {},
   "source": [
    "### Q14"
   ]
  },
  {
   "cell_type": "code",
   "execution_count": 68,
   "id": "e3fa9c93",
   "metadata": {},
   "outputs": [
    {
     "data": {
      "text/plain": [
       "array([-3, -3, -3, -2, -1,  0,  1,  2,  3,  3,  3])"
      ]
     },
     "execution_count": 68,
     "metadata": {},
     "output_type": "execute_result"
    }
   ],
   "source": [
    "def bounding_array(A, top, bottom):\n",
    "    out = A\n",
    "    out[out >= top]= top\n",
    "    out[out <= bottom] = bottom\n",
    "    return out\n",
    "bounding_array(np.arange(-5, 6, 1), 3, -3)"
   ]
  },
  {
   "cell_type": "code",
   "execution_count": null,
   "id": "f7dafadd",
   "metadata": {},
   "outputs": [],
   "source": []
  }
 ],
 "metadata": {
  "kernelspec": {
   "display_name": "Python 3 (ipykernel)",
   "language": "python",
   "name": "python3"
  },
  "language_info": {
   "codemirror_mode": {
    "name": "ipython",
    "version": 3
   },
   "file_extension": ".py",
   "mimetype": "text/x-python",
   "name": "python",
   "nbconvert_exporter": "python",
   "pygments_lexer": "ipython3",
   "version": "3.10.6"
  }
 },
 "nbformat": 4,
 "nbformat_minor": 5
}
