{
 "cells": [
  {
   "cell_type": "markdown",
   "id": "8171e3ed",
   "metadata": {},
   "source": [
    "### Q1"
   ]
  },
  {
   "cell_type": "code",
   "execution_count": 1,
   "id": "ca64af14",
   "metadata": {},
   "outputs": [
    {
     "name": "stdout",
     "output_type": "stream",
     "text": [
      "16.3935\n"
     ]
    }
   ],
   "source": [
    "def my_tip_calc(bill, party):\n",
    "    if party < 6:\n",
    "        tip = 0.15 * bill\n",
    "    elif party < 8:\n",
    "        tip = 0.18*bill\n",
    "    elif party < 11:\n",
    "        tip = 0.20*bill\n",
    "    else:\n",
    "        tip = 0.25*bill\n",
    "    return tip\n",
    "\n",
    "t = my_tip_calc(109.29,3)\n",
    "print(t)\n"
   ]
  },
  {
   "cell_type": "code",
   "execution_count": 2,
   "id": "36229836",
   "metadata": {},
   "outputs": [
    {
     "name": "stdout",
     "output_type": "stream",
     "text": [
      "19.6722\n"
     ]
    }
   ],
   "source": [
    "t = my_tip_calc(109.29,7)\n",
    "print(t)"
   ]
  },
  {
   "cell_type": "code",
   "execution_count": 3,
   "id": "b4bf4107",
   "metadata": {},
   "outputs": [
    {
     "name": "stdout",
     "output_type": "stream",
     "text": [
      "21.858000000000004\n"
     ]
    }
   ],
   "source": [
    "t = my_tip_calc(109.29,9)\n",
    "print(t)"
   ]
  },
  {
   "cell_type": "code",
   "execution_count": 4,
   "id": "3cb529e2",
   "metadata": {},
   "outputs": [
    {
     "name": "stdout",
     "output_type": "stream",
     "text": [
      "27.3225\n"
     ]
    }
   ],
   "source": [
    "t = my_tip_calc(109.29,12)\n",
    "print(t)"
   ]
  },
  {
   "cell_type": "markdown",
   "id": "7052311f",
   "metadata": {},
   "source": [
    "### Q2"
   ]
  },
  {
   "cell_type": "code",
   "execution_count": 6,
   "id": "cfc0a8d7",
   "metadata": {},
   "outputs": [
    {
     "data": {
      "text/plain": [
       "array([3, 5, 7, 9])"
      ]
     },
     "execution_count": 6,
     "metadata": {},
     "output_type": "execute_result"
    }
   ],
   "source": [
    "import numpy as np\n",
    "def my_mult_operation(a,b,operation):\n",
    "    if operation == \"plus\":\n",
    "        return a+b\n",
    "    elif operation == \"minus\":\n",
    "        return a-b\n",
    "    elif operation == \"mult\":\n",
    "        return a*b\n",
    "    elif operation == \"div\":\n",
    "        return a/b\n",
    "    else:\n",
    "        return a**b\n",
    "x = np.array([1,2,3,4])\n",
    "y = np.array([2,3,4,5])\n",
    "my_mult_operation(x,y,\"plus\")"
   ]
  },
  {
   "cell_type": "code",
   "execution_count": 7,
   "id": "6eae3bff",
   "metadata": {},
   "outputs": [
    {
     "data": {
      "text/plain": [
       "array([-1, -1, -1, -1])"
      ]
     },
     "execution_count": 7,
     "metadata": {},
     "output_type": "execute_result"
    }
   ],
   "source": [
    "my_mult_operation(x,y,\"minus\")"
   ]
  },
  {
   "cell_type": "code",
   "execution_count": 8,
   "id": "8dc56bb6",
   "metadata": {},
   "outputs": [
    {
     "data": {
      "text/plain": [
       "array([ 2,  6, 12, 20])"
      ]
     },
     "execution_count": 8,
     "metadata": {},
     "output_type": "execute_result"
    }
   ],
   "source": [
    "my_mult_operation(x,y,\"mult\")"
   ]
  },
  {
   "cell_type": "code",
   "execution_count": 9,
   "id": "49dd04ef",
   "metadata": {},
   "outputs": [
    {
     "data": {
      "text/plain": [
       "array([0.5       , 0.66666667, 0.75      , 0.8       ])"
      ]
     },
     "execution_count": 9,
     "metadata": {},
     "output_type": "execute_result"
    }
   ],
   "source": [
    "my_mult_operation(x,y,\"div\")"
   ]
  },
  {
   "cell_type": "code",
   "execution_count": 10,
   "id": "e3e3d0c2",
   "metadata": {},
   "outputs": [
    {
     "data": {
      "text/plain": [
       "array([   1,    8,   81, 1024])"
      ]
     },
     "execution_count": 10,
     "metadata": {},
     "output_type": "execute_result"
    }
   ],
   "source": [
    "my_mult_operation(x,y,\"pow\")"
   ]
  },
  {
   "cell_type": "markdown",
   "id": "9947d40f",
   "metadata": {},
   "source": [
    "### Q3"
   ]
  },
  {
   "cell_type": "code",
   "execution_count": 16,
   "id": "fec1c4aa",
   "metadata": {},
   "outputs": [
    {
     "name": "stdout",
     "output_type": "stream",
     "text": [
      "border\n",
      "inside\n",
      "outside\n"
     ]
    }
   ],
   "source": [
    "def my_inside_triangle(x,y):\n",
    "    if (x>0 and y>0 and x+y<1):\n",
    "        print(\"inside\")\n",
    "    elif (x==0 and 0<=y<=1) or ((y==0 and 0<=x<=1)) or (x+y ==1 and 0<=y<=1 and 0<=x<=1):\n",
    "        print(\"border\")\n",
    "    else:\n",
    "        print(\"outside\")\n",
    "my_inside_triangle(.5,.5)\n",
    "my_inside_triangle(.25,.25)\n",
    "my_inside_triangle(5,5)"
   ]
  },
  {
   "cell_type": "markdown",
   "id": "594e3b97",
   "metadata": {},
   "source": [
    "### Q4"
   ]
  },
  {
   "cell_type": "code",
   "execution_count": 39,
   "id": "faf613bf",
   "metadata": {},
   "outputs": [
    {
     "name": "stdout",
     "output_type": "stream",
     "text": [
      "[1. 0. 0. 0. 0. 0. 0. 0. 0. 0.]\n",
      "[1, 2, 3, 4, 5, 6, 7, 8, 9, 10]\n"
     ]
    }
   ],
   "source": [
    "import numpy as np\n",
    "def my_make_size10(x):\n",
    "    x = list(x) \n",
    "    if (np.size(x)>=10):\n",
    "        print(f\"{x[:10]}\")\n",
    "    else:\n",
    "        y = np.zeros(10)\n",
    "        y[:np.size(x)] = x\n",
    "        print(f\"{y}\")\n",
    "my_make_size10(range(1,2))\n",
    "my_make_size10(range(1,15))"
   ]
  },
  {
   "cell_type": "code",
   "execution_count": null,
   "id": "da346600",
   "metadata": {},
   "outputs": [],
   "source": []
  }
 ],
 "metadata": {
  "kernelspec": {
   "display_name": "Python 3 (ipykernel)",
   "language": "python",
   "name": "python3"
  },
  "language_info": {
   "codemirror_mode": {
    "name": "ipython",
    "version": 3
   },
   "file_extension": ".py",
   "mimetype": "text/x-python",
   "name": "python",
   "nbconvert_exporter": "python",
   "pygments_lexer": "ipython3",
   "version": "3.10.6"
  }
 },
 "nbformat": 4,
 "nbformat_minor": 5
}
