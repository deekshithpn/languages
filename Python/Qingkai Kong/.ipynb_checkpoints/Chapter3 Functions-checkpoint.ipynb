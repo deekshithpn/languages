{
 "cells": [
  {
   "cell_type": "markdown",
   "id": "0292a153",
   "metadata": {},
   "source": [
    "# Chapter 3:  Functions\n",
    "- **type** \n",
    "- inbuilt functions."
   ]
  },
  {
   "cell_type": "code",
   "execution_count": 1,
   "id": "0e1bd11f",
   "metadata": {},
   "outputs": [
    {
     "data": {
      "text/plain": [
       "builtin_function_or_method"
      ]
     },
     "execution_count": 1,
     "metadata": {},
     "output_type": "execute_result"
    }
   ],
   "source": [
    "type(len)"
   ]
  },
  {
   "cell_type": "code",
   "execution_count": 2,
   "id": "a00daab4",
   "metadata": {},
   "outputs": [
    {
     "data": {
      "text/plain": [
       "function"
      ]
     },
     "execution_count": 2,
     "metadata": {},
     "output_type": "execute_result"
    }
   ],
   "source": [
    "import numpy as np\n",
    "type(np.linspace)"
   ]
  },
  {
   "cell_type": "code",
   "execution_count": 3,
   "id": "17e7ff42",
   "metadata": {},
   "outputs": [],
   "source": [
    "np.linspace?"
   ]
  },
  {
   "cell_type": "markdown",
   "id": "306b4849",
   "metadata": {},
   "source": [
    "### Function definition syntax:\n",
    "**def** function_name (input1, input2,...) **:** <br>\n",
    "&emsp; \"\"\" description about the function \"\"\" <br>\n",
    "&emsp; \\# function body <br>\n",
    "&emsp; **return** output \n",
    "\n",
    "- **help(function_name)** = gives the descriptine string of a function.\n",
    "- **#** is used for commenting single line.\n",
    "- **\"\"\"    \"\"\"\"** is used for multi line commenting.\n",
    "- note: Any data type can be returned even a function.\n",
    "- Parameter Vs Arguments."
   ]
  },
  {
   "cell_type": "code",
   "execution_count": 5,
   "id": "163eb86d",
   "metadata": {},
   "outputs": [],
   "source": [
    "def my_adder(a,b,c):\n",
    "    \"\"\"\n",
    "    Function to add 3 numbers.\n",
    "    input: 3 numbers a,b,c.\n",
    "    output: sum of the  numbers (a+b+c).\n",
    "    Author: Deekshith\n",
    "    Date: 6th May 2023\n",
    "    \"\"\"\n",
    "    out = a+b+c\n",
    "    return out"
   ]
  },
  {
   "cell_type": "code",
   "execution_count": 9,
   "id": "4a1f3dad",
   "metadata": {},
   "outputs": [
    {
     "data": {
      "text/plain": [
       "6"
      ]
     },
     "execution_count": 9,
     "metadata": {},
     "output_type": "execute_result"
    }
   ],
   "source": [
    "d = my_adder(1,2,3)\n",
    "d"
   ]
  },
  {
   "cell_type": "code",
   "execution_count": 7,
   "id": "f122c092",
   "metadata": {},
   "outputs": [
    {
     "name": "stdout",
     "output_type": "stream",
     "text": [
      "Help on function my_adder in module __main__:\n",
      "\n",
      "my_adder(a, b, c)\n",
      "    Function to add 3 numbers.\n",
      "    input: 3 numbers a,b,c.\n",
      "    output: sum of the  numbers (a+b+c).\n",
      "    Author: Deekshith\n",
      "    Date: 6th May 2023\n",
      "\n"
     ]
    }
   ],
   "source": [
    "help(my_adder)"
   ]
  },
  {
   "cell_type": "markdown",
   "id": "5ef935c9",
   "metadata": {},
   "source": [
    "- **Type error**: unsupported operand types.\n",
    "- In python we do not specify the tye in a function."
   ]
  },
  {
   "cell_type": "code",
   "execution_count": 10,
   "id": "fbe782b0",
   "metadata": {},
   "outputs": [
    {
     "ename": "TypeError",
     "evalue": "can only concatenate str (not \"int\") to str",
     "output_type": "error",
     "traceback": [
      "\u001b[0;31m---------------------------------------------------------------------------\u001b[0m",
      "\u001b[0;31mTypeError\u001b[0m                                 Traceback (most recent call last)",
      "Cell \u001b[0;32mIn[10], line 1\u001b[0m\n\u001b[0;32m----> 1\u001b[0m \u001b[43mmy_adder\u001b[49m\u001b[43m(\u001b[49m\u001b[38;5;124;43m\"\u001b[39;49m\u001b[38;5;124;43m1\u001b[39;49m\u001b[38;5;124;43m\"\u001b[39;49m\u001b[43m,\u001b[49m\u001b[38;5;241;43m2\u001b[39;49m\u001b[43m,\u001b[49m\u001b[38;5;241;43m3\u001b[39;49m\u001b[43m)\u001b[49m\n",
      "Cell \u001b[0;32mIn[5], line 9\u001b[0m, in \u001b[0;36mmy_adder\u001b[0;34m(a, b, c)\u001b[0m\n\u001b[1;32m      1\u001b[0m \u001b[38;5;28;01mdef\u001b[39;00m \u001b[38;5;21mmy_adder\u001b[39m(a,b,c):\n\u001b[1;32m      2\u001b[0m \u001b[38;5;250m    \u001b[39m\u001b[38;5;124;03m\"\"\"\u001b[39;00m\n\u001b[1;32m      3\u001b[0m \u001b[38;5;124;03m    Function to add 3 numbers.\u001b[39;00m\n\u001b[1;32m      4\u001b[0m \u001b[38;5;124;03m    input: 3 numbers a,b,c.\u001b[39;00m\n\u001b[0;32m   (...)\u001b[0m\n\u001b[1;32m      7\u001b[0m \u001b[38;5;124;03m    Date: 6th May 2023\u001b[39;00m\n\u001b[1;32m      8\u001b[0m \u001b[38;5;124;03m    \"\"\"\u001b[39;00m\n\u001b[0;32m----> 9\u001b[0m     out \u001b[38;5;241m=\u001b[39m \u001b[43ma\u001b[49m\u001b[38;5;241;43m+\u001b[39;49m\u001b[43mb\u001b[49m\u001b[38;5;241m+\u001b[39mc\n\u001b[1;32m     10\u001b[0m     \u001b[38;5;28;01mreturn\u001b[39;00m out\n",
      "\u001b[0;31mTypeError\u001b[0m: can only concatenate str (not \"int\") to str"
     ]
    }
   ],
   "source": [
    "my_adder(\"1\",2,3)"
   ]
  },
  {
   "cell_type": "markdown",
   "id": "3d6e50ad",
   "metadata": {},
   "source": [
    "- You can also assign mathematical expressions as the input to functions."
   ]
  },
  {
   "cell_type": "code",
   "execution_count": 12,
   "id": "dfb99d8a",
   "metadata": {},
   "outputs": [],
   "source": [
    "from math import tan, sin, cos, pi"
   ]
  },
  {
   "cell_type": "code",
   "execution_count": 13,
   "id": "07b103b3",
   "metadata": {},
   "outputs": [
    {
     "data": {
      "text/plain": [
       "-1.0"
      ]
     },
     "execution_count": 13,
     "metadata": {},
     "output_type": "execute_result"
    }
   ],
   "source": [
    "my_adder(sin(pi),cos(pi),tan(pi))"
   ]
  },
  {
   "cell_type": "code",
   "execution_count": 16,
   "id": "5a0f9d47",
   "metadata": {},
   "outputs": [
    {
     "data": {
      "text/plain": [
       "(-0.0806950697747637,\n",
       " -0.2750268284872752,\n",
       " [-0.0806950697747637, -0.2750268284872752])"
      ]
     },
     "execution_count": 16,
     "metadata": {},
     "output_type": "execute_result"
    }
   ],
   "source": [
    "def my_trig_sum(a,b):\n",
    "    \"\"\"\n",
    "    Function to demo multiple outputs\n",
    "    Deekshith\n",
    "    6th May 2023\n",
    "    \"\"\"\n",
    "    out1 = sin(a) + cos(b)\n",
    "    out2 = sin(b) + cos(a)\n",
    "    return out1, out2, [out1,out2]\n",
    "\n",
    "my_trig_sum(2,3)"
   ]
  },
  {
   "cell_type": "markdown",
   "id": "eb017853",
   "metadata": {},
   "source": [
    "- The multiple outputs come out as a tuple."
   ]
  },
  {
   "cell_type": "code",
   "execution_count": 17,
   "id": "31022938",
   "metadata": {},
   "outputs": [
    {
     "name": "stdout",
     "output_type": "stream",
     "text": [
      "c = -0.0806950697747637, d =-0.2750268284872752, e= [-0.0806950697747637, -0.2750268284872752]\n"
     ]
    }
   ],
   "source": [
    "c, d, e = my_trig_sum(2,3)\n",
    "print(f\"c = {c}, d ={d}, e= {e}\")"
   ]
  },
  {
   "cell_type": "code",
   "execution_count": 18,
   "id": "1fd3cb97",
   "metadata": {},
   "outputs": [
    {
     "name": "stdout",
     "output_type": "stream",
     "text": [
      "c = (-0.0806950697747637, -0.2750268284872752, [-0.0806950697747637, -0.2750268284872752]) has a type of <class 'tuple'>\n"
     ]
    }
   ],
   "source": [
    "c = my_trig_sum(2,3)\n",
    "print(f\"c = {c} has a type of {type(c)}\")"
   ]
  },
  {
   "cell_type": "markdown",
   "id": "a55ed443",
   "metadata": {},
   "source": [
    "### function without inputs or outputs"
   ]
  },
  {
   "cell_type": "code",
   "execution_count": 21,
   "id": "88962827",
   "metadata": {},
   "outputs": [
    {
     "name": "stdout",
     "output_type": "stream",
     "text": [
      "Hello\n"
     ]
    }
   ],
   "source": [
    "def print_hello():\n",
    "    print(\"Hello\");\n",
    "\n",
    "print_hello()"
   ]
  },
  {
   "cell_type": "markdown",
   "id": "b51a8e01",
   "metadata": {},
   "source": [
    "For the input of the argument, we can include the default value as well. See the following example"
   ]
  },
  {
   "cell_type": "code",
   "execution_count": 23,
   "id": "49469e14",
   "metadata": {},
   "outputs": [
    {
     "name": "stdout",
     "output_type": "stream",
     "text": [
      "Hello Deekshith, today is Monday\n"
     ]
    }
   ],
   "source": [
    "def print_greeting(day = \"Monday\", name = \"Deekshith\"):\n",
    "    print(f\"Hello {name}, today is {day}\")\n",
    "    \n",
    "print_greeting()"
   ]
  },
  {
   "cell_type": "code",
   "execution_count": 24,
   "id": "3e385078",
   "metadata": {},
   "outputs": [
    {
     "name": "stdout",
     "output_type": "stream",
     "text": [
      "Hello nobody, today is no day\n"
     ]
    }
   ],
   "source": [
    "print_greeting(\"no day\", \"nobody\")"
   ]
  },
  {
   "cell_type": "code",
   "execution_count": 27,
   "id": "86aace0d",
   "metadata": {},
   "outputs": [
    {
     "name": "stdout",
     "output_type": "stream",
     "text": [
      "Hello Alpha, today is Beta\n"
     ]
    }
   ],
   "source": [
    "alpha = \"Alpha\"\n",
    "beta = \"Beta\"\n",
    "print_greeting(beta,alpha)"
   ]
  },
  {
   "cell_type": "code",
   "execution_count": 28,
   "id": "64ac16c2",
   "metadata": {},
   "outputs": [
    {
     "name": "stdout",
     "output_type": "stream",
     "text": [
      "Hello Deekshith, today is xday\n"
     ]
    }
   ],
   "source": [
    "print_greeting(\"xday\")"
   ]
  },
  {
   "cell_type": "code",
   "execution_count": 29,
   "id": "5ae2c429",
   "metadata": {},
   "outputs": [
    {
     "name": "stdout",
     "output_type": "stream",
     "text": [
      "Hello xname, today is Monday\n"
     ]
    }
   ],
   "source": [
    "print_greeting(name=\"xname\")"
   ]
  },
  {
   "cell_type": "markdown",
   "id": "6bb4b754",
   "metadata": {},
   "source": [
    "**Note** that the order of the parameter is not important\n",
    "when calling the function if you provide the name of the parameter."
   ]
  },
  {
   "cell_type": "markdown",
   "id": "14b3ea57",
   "metadata": {},
   "source": [
    "### Local variable demo"
   ]
  },
  {
   "cell_type": "code",
   "execution_count": 31,
   "id": "5e056a1c",
   "metadata": {},
   "outputs": [
    {
     "name": "stdout",
     "output_type": "stream",
     "text": [
      "The value of the variable out inside the function is 6\n",
      "The value of the variable out outside the function is 1\n"
     ]
    }
   ],
   "source": [
    "def my_adder(a,b,c):\n",
    "    out = a+b+c;\n",
    "    print(f\"The value of the variable out inside the function is {out}\")\n",
    "    return out\n",
    "\n",
    "out = 1;\n",
    "d = my_adder(1,2,3);\n",
    "print(f\"The value of the variable out outside the function is {out}\")"
   ]
  },
  {
   "cell_type": "markdown",
   "id": "f3bcf03e",
   "metadata": {},
   "source": [
    "### Global variable demo"
   ]
  },
  {
   "cell_type": "code",
   "execution_count": 32,
   "id": "28196c7f",
   "metadata": {},
   "outputs": [
    {
     "name": "stdout",
     "output_type": "stream",
     "text": [
      "within function n is 43\n",
      "within function change n to 3\n",
      "outside the function the n is 3\n"
     ]
    }
   ],
   "source": [
    "def func():\n",
    "    global n\n",
    "    print(f\"within function n is {n}\")\n",
    "    n = 3\n",
    "    print(f\"within function change n to {n}\")\n",
    "\n",
    "n = 43\n",
    "func()\n",
    "print(f\"outside the function the n is {n}\")\n"
   ]
  },
  {
   "cell_type": "markdown",
   "id": "28c13d2d",
   "metadata": {},
   "source": [
    "#### Global variable declaration outside the function gives error"
   ]
  },
  {
   "cell_type": "code",
   "execution_count": 33,
   "id": "189c5e6f",
   "metadata": {},
   "outputs": [
    {
     "ename": "UnboundLocalError",
     "evalue": "local variable 'n' referenced before assignment",
     "output_type": "error",
     "traceback": [
      "\u001b[0;31m---------------------------------------------------------------------------\u001b[0m",
      "\u001b[0;31mUnboundLocalError\u001b[0m                         Traceback (most recent call last)",
      "Cell \u001b[0;32mIn[33], line 8\u001b[0m\n\u001b[1;32m      6\u001b[0m n \u001b[38;5;241m=\u001b[39m \u001b[38;5;241m43\u001b[39m\n\u001b[1;32m      7\u001b[0m \u001b[38;5;28;01mglobal\u001b[39;00m n\n\u001b[0;32m----> 8\u001b[0m \u001b[43mfunc\u001b[49m\u001b[43m(\u001b[49m\u001b[43m)\u001b[49m\n\u001b[1;32m      9\u001b[0m \u001b[38;5;28mprint\u001b[39m(\u001b[38;5;124mf\u001b[39m\u001b[38;5;124m\"\u001b[39m\u001b[38;5;124moutside the function the n is \u001b[39m\u001b[38;5;132;01m{\u001b[39;00mn\u001b[38;5;132;01m}\u001b[39;00m\u001b[38;5;124m\"\u001b[39m)\n",
      "Cell \u001b[0;32mIn[33], line 2\u001b[0m, in \u001b[0;36mfunc\u001b[0;34m()\u001b[0m\n\u001b[1;32m      1\u001b[0m \u001b[38;5;28;01mdef\u001b[39;00m \u001b[38;5;21mfunc\u001b[39m():\n\u001b[0;32m----> 2\u001b[0m     \u001b[38;5;28mprint\u001b[39m(\u001b[38;5;124mf\u001b[39m\u001b[38;5;124m\"\u001b[39m\u001b[38;5;124mwithin function n is \u001b[39m\u001b[38;5;132;01m{\u001b[39;00mn\u001b[38;5;132;01m}\u001b[39;00m\u001b[38;5;124m\"\u001b[39m)\n\u001b[1;32m      3\u001b[0m     n \u001b[38;5;241m=\u001b[39m \u001b[38;5;241m3\u001b[39m\n\u001b[1;32m      4\u001b[0m     \u001b[38;5;28mprint\u001b[39m(\u001b[38;5;124mf\u001b[39m\u001b[38;5;124m\"\u001b[39m\u001b[38;5;124mwithin function change n to \u001b[39m\u001b[38;5;132;01m{\u001b[39;00mn\u001b[38;5;132;01m}\u001b[39;00m\u001b[38;5;124m\"\u001b[39m)\n",
      "\u001b[0;31mUnboundLocalError\u001b[0m: local variable 'n' referenced before assignment"
     ]
    }
   ],
   "source": [
    "def func1():\n",
    "    print(f\"within function n is {n}\")\n",
    "    n = 3\n",
    "    print(f\"within function change n to {n}\")\n",
    "\n",
    "n = 43\n",
    "global n\n",
    "func()\n",
    "print(f\"outside the function the n is {n}\")\n"
   ]
  },
  {
   "cell_type": "markdown",
   "id": "1ed0aef9",
   "metadata": {},
   "source": [
    "### Nested Functions:\n",
    "- A nested function is a function that is defined within another function – parent function.\n",
    "Only the parent function is able to call the nested function. Remember that the nested function retains\n",
    "a separate memory block from its parent function."
   ]
  },
  {
   "cell_type": "code",
   "execution_count": 35,
   "id": "11812f70",
   "metadata": {
    "scrolled": true
   },
   "outputs": [
    {
     "name": "stdout",
     "output_type": "stream",
     "text": [
      "(1.0, 1.4142135623730951, 1.0)\n"
     ]
    }
   ],
   "source": [
    "def my_dist_xyz(x1, x2, x3):\n",
    "    \"\"\"\n",
    "    inputs: \n",
    "    x1,x2,x3 are 3 points in a 2d plane. Hence they are 2-tuples.\n",
    "    \n",
    "    output:\n",
    "    a tuple d, where\n",
    "    d[0] = distance b/w x1,x2.\n",
    "    d[1] = distance b/w x1,x3.\n",
    "    d[2] = distance b/w x2,x3.\n",
    "    \"\"\"\n",
    "    def my_dist(x1,x2):\n",
    "        \"\"\" \n",
    "        inputs:\n",
    "        2 points in a 2d plane. Hence x1 and x2 are each 2-tuples\n",
    "        \n",
    "        output:\n",
    "        d = distance between the 2 points x1 and x2.\n",
    "        \"\"\"\n",
    "        d = np.sqrt((x1[0]-x2[0])**2 + (x1[1]-x2[1])**2);\n",
    "        return d\n",
    "    \n",
    "    d0 = my_dist(x1,x2);\n",
    "    d1 = my_dist(x1,x3);\n",
    "    d2 = my_dist(x2,x3);\n",
    "    return (d0,d1,d2)\n",
    "\n",
    "d = my_dist_xyz((0,0),(0,1),(1,1));\n",
    "print(d);\n",
    "        "
   ]
  },
  {
   "cell_type": "markdown",
   "id": "2cdd1a1e",
   "metadata": {},
   "source": [
    "#### Outside the parentfuntion the child function is unfunctional."
   ]
  },
  {
   "cell_type": "code",
   "execution_count": 36,
   "id": "e1ca15db",
   "metadata": {},
   "outputs": [
    {
     "ename": "NameError",
     "evalue": "name 'my_dist' is not defined",
     "output_type": "error",
     "traceback": [
      "\u001b[0;31m---------------------------------------------------------------------------\u001b[0m",
      "\u001b[0;31mNameError\u001b[0m                                 Traceback (most recent call last)",
      "Cell \u001b[0;32mIn[36], line 1\u001b[0m\n\u001b[0;32m----> 1\u001b[0m \u001b[43mmy_dist\u001b[49m((\u001b[38;5;241m0\u001b[39m,\u001b[38;5;241m0\u001b[39m),(\u001b[38;5;241m1\u001b[39m,\u001b[38;5;241m1\u001b[39m))\n",
      "\u001b[0;31mNameError\u001b[0m: name 'my_dist' is not defined"
     ]
    }
   ],
   "source": [
    "my_dist((0,0),(1,1))"
   ]
  },
  {
   "cell_type": "markdown",
   "id": "fd891b0b",
   "metadata": {},
   "source": [
    "#### Dot product between two vectors in python\n",
    "- **vector1.dot(vector2)**\n",
    "- rewriting the above example using vectors."
   ]
  },
  {
   "cell_type": "code",
   "execution_count": 43,
   "id": "34739479",
   "metadata": {},
   "outputs": [
    {
     "name": "stdout",
     "output_type": "stream",
     "text": [
      "(1.0, 1.4142135623730951, 1.0)\n"
     ]
    }
   ],
   "source": [
    "def my_dist_xyz(x1, x2, x3):\n",
    "    \"\"\"\n",
    "    inputs: \n",
    "    x1,x2,x3 are 3 points in a 2d plane. Hence they are 2-tuples.\n",
    "    \n",
    "    output:\n",
    "    a tuple d, where\n",
    "    d0 = distance b/w x1,x2.\n",
    "    d1 = distance b/w x1,x3.\n",
    "    d2 = distance b/w x2,x3.\n",
    "    \"\"\"\n",
    "    vec1 = np.array(x1)\n",
    "    vec2 = np.array(x2)\n",
    "    vec3 = np.array(x3)\n",
    "    dr1 = vec1 - vec2\n",
    "    dr2 = vec1 - vec3\n",
    "    dr3 = vec2 - vec3\n",
    "    d0 = np.sqrt(dr1.dot(dr1))\n",
    "    d1 = np.sqrt(dr2.dot(dr2))\n",
    "    d2 = np.sqrt(dr3.dot(dr3))\n",
    "    return (d0,d1,d2)\n",
    "\n",
    "d = my_dist_xyz((0,0),(0,1),(1,1));\n",
    "print(d);\n",
    "        "
   ]
  },
  {
   "cell_type": "code",
   "execution_count": 40,
   "id": "6166c688",
   "metadata": {},
   "outputs": [
    {
     "data": {
      "text/plain": [
       "[0, 0, 0, 1]"
      ]
     },
     "execution_count": 40,
     "metadata": {},
     "output_type": "execute_result"
    }
   ],
   "source": [
    "[0,0]+[0,1]"
   ]
  },
  {
   "cell_type": "code",
   "execution_count": 42,
   "id": "b3caf6d9",
   "metadata": {},
   "outputs": [
    {
     "data": {
      "text/plain": [
       "array([1, 2, 3])"
      ]
     },
     "execution_count": 42,
     "metadata": {},
     "output_type": "execute_result"
    }
   ],
   "source": [
    "np.array([1,2,3])"
   ]
  },
  {
   "cell_type": "markdown",
   "id": "5e151583",
   "metadata": {},
   "source": [
    "### Lambda functions\n",
    "- ***function_name = lambda arguments:expression***"
   ]
  },
  {
   "cell_type": "code",
   "execution_count": 46,
   "id": "7df0b942",
   "metadata": {},
   "outputs": [
    {
     "name": "stdout",
     "output_type": "stream",
     "text": [
      "[4, 2]\n"
     ]
    }
   ],
   "source": [
    "square = lambda x:[x**2,x]\n",
    "print(f\"{square(2)}\")"
   ]
  },
  {
   "cell_type": "code",
   "execution_count": 47,
   "id": "44646848",
   "metadata": {},
   "outputs": [
    {
     "data": {
      "text/plain": [
       "3"
      ]
     },
     "execution_count": 47,
     "metadata": {},
     "output_type": "execute_result"
    }
   ],
   "source": [
    "my_adder = lambda x,y:x+y\n",
    "my_adder(1,2)"
   ]
  },
  {
   "cell_type": "markdown",
   "id": "d7e18041",
   "metadata": {},
   "source": [
    "### Using sorted function\n",
    "- syntax: **sorted(iterable, key = func(x), reverse = true or false)** <br>\n",
    "example: Sort [(1, 2), (2, 0), (4, 1)] based on the second item in the tuple."
   ]
  },
  {
   "cell_type": "code",
   "execution_count": 50,
   "id": "30fef14e",
   "metadata": {},
   "outputs": [
    {
     "data": {
      "text/plain": [
       "[(2, 0), (4, 1), (1, 2)]"
      ]
     },
     "execution_count": 50,
     "metadata": {},
     "output_type": "execute_result"
    }
   ],
   "source": [
    "sorted([(1,2),(2,0),(4,1)], key = lambda x:x[1], reverse = False)"
   ]
  },
  {
   "cell_type": "markdown",
   "id": "e4b0429a",
   "metadata": {},
   "source": [
    "### FUNCTIONS AS ARGUMENTS TO FUNCTIONS"
   ]
  },
  {
   "cell_type": "code",
   "execution_count": 51,
   "id": "0772b847",
   "metadata": {},
   "outputs": [
    {
     "data": {
      "text/plain": [
       "builtin_function_or_method"
      ]
     },
     "execution_count": 51,
     "metadata": {},
     "output_type": "execute_result"
    }
   ],
   "source": [
    "f = max\n",
    "type(f)"
   ]
  },
  {
   "cell_type": "code",
   "execution_count": 52,
   "id": "e2bc718b",
   "metadata": {},
   "outputs": [
    {
     "data": {
      "text/plain": [
       "4"
      ]
     },
     "execution_count": 52,
     "metadata": {},
     "output_type": "execute_result"
    }
   ],
   "source": [
    "f([2,4,1,-2])"
   ]
  },
  {
   "cell_type": "code",
   "execution_count": 55,
   "id": "65b9e9a2",
   "metadata": {},
   "outputs": [
    {
     "name": "stdout",
     "output_type": "stream",
     "text": [
      "2.0\n",
      "1.0\n",
      "6.0\n"
     ]
    }
   ],
   "source": [
    "import numpy as np\n",
    "def my_f_plus1(f,x):\n",
    "    y = f(x)+1\n",
    "    return y\n",
    "print(f\"{my_f_plus1(np.sin,np.pi/2)}\")\n",
    "print(f\"{my_f_plus1(np.cos,np.pi/2)}\")\n",
    "print(f\"{my_f_plus1(np.sqrt,25)}\")"
   ]
  }
 ],
 "metadata": {
  "kernelspec": {
   "display_name": "Python 3 (ipykernel)",
   "language": "python",
   "name": "python3"
  },
  "language_info": {
   "codemirror_mode": {
    "name": "ipython",
    "version": 3
   },
   "file_extension": ".py",
   "mimetype": "text/x-python",
   "name": "python",
   "nbconvert_exporter": "python",
   "pygments_lexer": "ipython3",
   "version": "3.10.6"
  }
 },
 "nbformat": 4,
 "nbformat_minor": 5
}
