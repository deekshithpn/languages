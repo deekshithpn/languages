{
 "cells": [
  {
   "cell_type": "markdown",
   "id": "ed5b1b2a",
   "metadata": {},
   "source": [
    "### Q1"
   ]
  },
  {
   "cell_type": "code",
   "execution_count": 1,
   "id": "a6f3f9c2",
   "metadata": {},
   "outputs": [
    {
     "data": {
      "text/plain": [
       "1000"
      ]
     },
     "execution_count": 1,
     "metadata": {},
     "output_type": "execute_result"
    }
   ],
   "source": [
    "y = 0\n",
    "for i in range(1000):\n",
    "    for j in range(1000):\n",
    "        if i == j:\n",
    "            y += 1\n",
    "            \n",
    "y"
   ]
  },
  {
   "cell_type": "markdown",
   "id": "e069399d",
   "metadata": {},
   "source": [
    "### Q2"
   ]
  },
  {
   "cell_type": "code",
   "execution_count": 8,
   "id": "49cebce5",
   "metadata": {},
   "outputs": [
    {
     "data": {
      "text/plain": [
       "3"
      ]
     },
     "execution_count": 8,
     "metadata": {},
     "output_type": "execute_result"
    }
   ],
   "source": [
    "def my_max(x):\n",
    "    y = sorted(x, key= lambda x:x, reverse = 0)\n",
    "    z = y[-1]\n",
    "    return z\n",
    "my_max(range(4))"
   ]
  },
  {
   "cell_type": "markdown",
   "id": "9c3a8d0b",
   "metadata": {},
   "source": [
    "### Q3"
   ]
  },
  {
   "cell_type": "code",
   "execution_count": 10,
   "id": "ed492c66",
   "metadata": {},
   "outputs": [
    {
     "data": {
      "text/plain": [
       "[10, 9, 8]"
      ]
     },
     "execution_count": 10,
     "metadata": {},
     "output_type": "execute_result"
    }
   ],
   "source": [
    "def my_n_max(x, n):\n",
    "    y = sorted(x, key= lambda x:x, reverse = 1)\n",
    "    z = y[:n]\n",
    "    return z\n",
    "x = [7, 9, 10, 5, 8, 3, 4, 6, 2, 1]\n",
    "my_n_max(x,3)"
   ]
  },
  {
   "cell_type": "markdown",
   "id": "019166d1",
   "metadata": {},
   "source": [
    "### Q4"
   ]
  },
  {
   "cell_type": "code",
   "execution_count": 31,
   "id": "3f15ae23",
   "metadata": {},
   "outputs": [
    {
     "data": {
      "text/plain": [
       "array([[ 0.54030231,  0.90929743],\n",
       "       [-0.9899925 , -0.7568025 ]])"
      ]
     },
     "execution_count": 31,
     "metadata": {},
     "output_type": "execute_result"
    }
   ],
   "source": [
    "import numpy as np\n",
    "from math import sin, cos\n",
    "def my_trig_odd_even(m):\n",
    "    nRows,nCols = m.shape\n",
    "    q = np.zeros([2,2])\n",
    "    for rowN in range(nRows):\n",
    "        for colN in range(nCols):\n",
    "            if m[rowN,colN]%2 ==0:\n",
    "                q[rowN,colN] = sin(m[rowN,colN])\n",
    "            else:\n",
    "                 q[rowN,colN] = cos(m[rowN,colN])\n",
    "    return q\n",
    "m = np.array([[1,2],[3,4]])\n",
    "my_trig_odd_even(m)"
   ]
  },
  {
   "cell_type": "markdown",
   "id": "8dc31112",
   "metadata": {},
   "source": [
    "### Q5"
   ]
  },
  {
   "cell_type": "code",
   "execution_count": 3,
   "id": "745bf44e",
   "metadata": {},
   "outputs": [
    {
     "data": {
      "text/plain": [
       "array([[30., 30., 30.],\n",
       "       [70., 70., 70.]])"
      ]
     },
     "execution_count": 3,
     "metadata": {},
     "output_type": "execute_result"
    }
   ],
   "source": [
    "import numpy as np\n",
    "def my_mat_mult(P, Q):\n",
    "    nRowsP = P.shape[0]\n",
    "    nColsQ = Q.shape[1]\n",
    "    nColsP = P.shape[1]\n",
    "    R = np.zeros([nRowsP,nColsQ])\n",
    "    for rowNP in range(nRowsP):\n",
    "        for colNQ in range(nColsQ):\n",
    "            for colNP in range (nColsP):\n",
    "                R[rowNP,colNQ] = P[rowNP,colNP]*Q[colNP,colNQ]+ R[rowNP,colNQ]\n",
    "    return R\n",
    "P = np.array([[1, 2, 3, 4], [5, 6, 7, 8]])\n",
    "Q = np.array([[1, 1, 1], [2, 2, 2], [3, 3, 3], [4, 4, 4]])\n",
    "my_mat_mult(P, Q)                "
   ]
  },
  {
   "cell_type": "code",
   "execution_count": 4,
   "id": "39827ee7",
   "metadata": {},
   "outputs": [
    {
     "data": {
      "text/plain": [
       "array([[3., 3., 3.],\n",
       "       [3., 3., 3.],\n",
       "       [3., 3., 3.]])"
      ]
     },
     "execution_count": 4,
     "metadata": {},
     "output_type": "execute_result"
    }
   ],
   "source": [
    "P = np.ones((3, 3))\n",
    "my_mat_mult(P, P)"
   ]
  },
  {
   "cell_type": "markdown",
   "id": "d8674693",
   "metadata": {},
   "source": [
    "### Q5 using .dot"
   ]
  },
  {
   "cell_type": "code",
   "execution_count": 5,
   "id": "f6f7a479",
   "metadata": {},
   "outputs": [
    {
     "data": {
      "text/plain": [
       "array([[30., 30., 30.],\n",
       "       [70., 70., 70.]])"
      ]
     },
     "execution_count": 5,
     "metadata": {},
     "output_type": "execute_result"
    }
   ],
   "source": [
    "import numpy as np\n",
    "def my_mat_mult(P, Q):\n",
    "    nRowsP = P.shape[0]\n",
    "    nColsQ = Q.shape[1]\n",
    "    nColsP = P.shape[1]\n",
    "    R = np.zeros([nRowsP,nColsQ])\n",
    "    for rowNP in range(nRowsP):\n",
    "        for colNQ in range(nColsQ):\n",
    "            R[rowNP,colNQ] = np.dot(P[rowNP,:],Q[:,colNQ])\n",
    "    return R\n",
    "P = np.array([[1, 2, 3, 4], [5, 6, 7, 8]])\n",
    "Q = np.array([[1, 1, 1], [2, 2, 2], [3, 3, 3], [4, 4, 4]])\n",
    "my_mat_mult(P, Q)   "
   ]
  },
  {
   "cell_type": "code",
   "execution_count": 6,
   "id": "1c2402bc",
   "metadata": {},
   "outputs": [
    {
     "data": {
      "text/plain": [
       "array([[3., 3., 3.],\n",
       "       [3., 3., 3.],\n",
       "       [3., 3., 3.]])"
      ]
     },
     "execution_count": 6,
     "metadata": {},
     "output_type": "execute_result"
    }
   ],
   "source": [
    "P = np.ones((3, 3))\n",
    "my_mat_mult(P, P)"
   ]
  },
  {
   "cell_type": "markdown",
   "id": "c3d5841f",
   "metadata": {},
   "source": [
    "### Q6"
   ]
  },
  {
   "cell_type": "code",
   "execution_count": 7,
   "id": "2323e7a9",
   "metadata": {},
   "outputs": [
    {
     "data": {
      "text/plain": [
       "15"
      ]
     },
     "execution_count": 7,
     "metadata": {},
     "output_type": "execute_result"
    }
   ],
   "source": [
    "def my_saving_plan(P0, i, goal):\n",
    "    P = P0\n",
    "    n =0\n",
    "    while P < goal:\n",
    "        P = (1+i)*P\n",
    "        n += 1\n",
    "    return n\n",
    "my_saving_plan(1000, 0.05, 2000)"
   ]
  },
  {
   "cell_type": "code",
   "execution_count": 8,
   "id": "284ee0d4",
   "metadata": {},
   "outputs": [
    {
     "data": {
      "text/plain": [
       "11"
      ]
     },
     "execution_count": 8,
     "metadata": {},
     "output_type": "execute_result"
    }
   ],
   "source": [
    "my_saving_plan(1000, 0.07, 2000)"
   ]
  },
  {
   "cell_type": "code",
   "execution_count": 9,
   "id": "aa738dae",
   "metadata": {},
   "outputs": [
    {
     "data": {
      "text/plain": [
       "21"
      ]
     },
     "execution_count": 9,
     "metadata": {},
     "output_type": "execute_result"
    }
   ],
   "source": [
    "my_saving_plan(500, 0.07, 2000)"
   ]
  },
  {
   "cell_type": "markdown",
   "id": "fa5bf076",
   "metadata": {},
   "source": [
    "### Q7"
   ]
  },
  {
   "cell_type": "code",
   "execution_count": 15,
   "id": "21304246",
   "metadata": {},
   "outputs": [
    {
     "data": {
      "text/plain": [
       "[0, 2, 3]"
      ]
     },
     "execution_count": 15,
     "metadata": {},
     "output_type": "execute_result"
    }
   ],
   "source": [
    "def my_find(M):\n",
    "    indices = []\n",
    "    for i in range(len(M)):\n",
    "        if M[i] ==1:\n",
    "            indices.append(i)\n",
    "    return indices\n",
    "M = [1, 0, 1, 1, 0]\n",
    "my_find(M)"
   ]
  },
  {
   "cell_type": "markdown",
   "id": "c8c2effb",
   "metadata": {},
   "source": [
    "### Q7 using find"
   ]
  },
  {
   "cell_type": "code",
   "execution_count": 45,
   "id": "2d5c52b2",
   "metadata": {},
   "outputs": [
    {
     "name": "stdout",
     "output_type": "stream",
     "text": [
      "0\n",
      "9 3 6\n",
      "1\n",
      "11 5 6\n",
      "2\n",
      "3 2 1\n",
      "3\n",
      "7 6 1\n",
      "4\n",
      "8 5 3\n",
      "5\n",
      "9 3 6\n",
      "6\n",
      "4 2 2\n",
      "11 1 6\n",
      "7\n",
      "4 2 2\n",
      "12 2 6\n",
      "8\n",
      "4 1 3\n",
      "9\n",
      "6 5 1\n",
      "10\n",
      "5 2 3\n",
      "11\n",
      "10 5 5\n",
      "19 3 6\n",
      "12\n",
      "7 4 3\n",
      "13\n",
      "5 1 4\n",
      "14\n",
      "4 3 1\n",
      "15\n",
      "10 4 6\n",
      "16\n",
      "10 6 4\n",
      "17\n",
      "6 3 3\n",
      "15 3 6\n",
      "18\n",
      "10 6 4\n",
      "19\n",
      "8 6 2\n"
     ]
    }
   ],
   "source": [
    "\n",
    "import random\n",
    "def my_monopoly_dice():\n",
    "    dice1 = random.randint(1,6)\n",
    "    dice2 = random.randint(1,6)\n",
    "    sum = dice1 + dice2\n",
    "    print(sum, dice1, dice2)\n",
    "    while dice1 == dice2:\n",
    "        dice1 = random.randint(1,6)\n",
    "        dice2 = random.randint(1,6)\n",
    "        sum += dice1+dice2\n",
    "        print(sum, dice1, dice2)\n",
    "    return sum\n",
    "for i in range(20):\n",
    "    print(i)\n",
    "    my_monopoly_dice()\n"
   ]
  },
  {
   "cell_type": "markdown",
   "id": "e1255c4b",
   "metadata": {},
   "source": [
    "### Q9"
   ]
  },
  {
   "cell_type": "code",
   "execution_count": 2,
   "id": "e4ee46ad",
   "metadata": {},
   "outputs": [],
   "source": [
    "import math\n",
    "def my_is_prime(n):\n",
    "    if n ==2 or n==3:\n",
    "        out = 1\n",
    "        return out \n",
    "    nd = 0\n",
    "    for i in range(2,int(math.sqrt(n))+2):\n",
    "        if n%i ==0:\n",
    "            nd +=1\n",
    "    if nd == 0:\n",
    "        out =1\n",
    "    else:\n",
    "        out = 0\n",
    "    return out"
   ]
  },
  {
   "cell_type": "code",
   "execution_count": 4,
   "id": "6372a9e3",
   "metadata": {},
   "outputs": [
    {
     "data": {
      "text/plain": [
       "1"
      ]
     },
     "execution_count": 4,
     "metadata": {},
     "output_type": "execute_result"
    }
   ],
   "source": [
    "my_is_prime(17)"
   ]
  },
  {
   "cell_type": "markdown",
   "id": "293d73d5",
   "metadata": {},
   "source": [
    "### Q10"
   ]
  },
  {
   "cell_type": "code",
   "execution_count": null,
   "id": "ef3a3d2b",
   "metadata": {},
   "outputs": [],
   "source": [
    "import math\n",
    "def my_is_prime(n):\n",
    "    if n ==2 or n==3:\n",
    "        out = 1\n",
    "        return out \n",
    "    nd = 0\n",
    "    for i in range(2,int(math.sqrt(n))+2):\n",
    "        if n%i ==0:\n",
    "            nd +=1\n",
    "    if nd == 0:\n",
    "        out =1\n",
    "    else:\n",
    "        out = 0\n",
    "    return out\n",
    "def my_n_primes(n):\n",
    "    indices = [0,0]\n",
    "    first_n_primes = []\n",
    "    no_primes = 1\n",
    "    check_no = 2;\n",
    "    while no_primes <= n:\n",
    "        if my_is_prime(check_no) ==1:\n",
    "            first_n_primes.append(check_no)\n",
    "            no_primes +=1\n",
    "        check_no += 1\n",
    "    return first_n_primes\n",
    "rogue1 = my_n_primes(100)\n",
    "rogue1"
   ]
  },
  {
   "cell_type": "code",
   "execution_count": null,
   "id": "247c0e83",
   "metadata": {},
   "outputs": [],
   "source": [
    "len(rogue1)"
   ]
  },
  {
   "cell_type": "markdown",
   "id": "59dce131",
   "metadata": {},
   "source": [
    "### Q11"
   ]
  },
  {
   "cell_type": "code",
   "execution_count": null,
   "id": "225cdcd5",
   "metadata": {},
   "outputs": [],
   "source": [
    "import numpy as np\n",
    "def my_n_fibs(n):\n",
    "    my_n_fibs = [0,1]\n",
    "    fib_mat = np.array([[1,1],[1,0]])\n",
    "    i = 3;\n",
    "    f1 = 0\n",
    "    f2 = 1\n",
    "    while i <=n:\n",
    "        f_mat_2 = fib_mat[0,:].dot(np.array([[f2],[f1]]))\n",
    "        f_mat_1 = fib_mat[1,:].dot(np.array([[f2],[f1]]))\n",
    "        f2 = f_mat_2[0]\n",
    "        f1 = f_mat_1[0]\n",
    "        my_n_fibs.append(f2)\n",
    "        i +=1\n",
    "    return my_n_fibs\n",
    "(my_n_fibs(4))"
   ]
  },
  {
   "cell_type": "code",
   "execution_count": 55,
   "id": "058b5d18",
   "metadata": {},
   "outputs": [],
   "source": [
    "x =(my_n_fibs(5))"
   ]
  },
  {
   "cell_type": "code",
   "execution_count": 4,
   "id": "a8926578",
   "metadata": {},
   "outputs": [
    {
     "data": {
      "text/plain": [
       "[3, 5, 13, 89, 233, 1597, 28657, 514229]"
      ]
     },
     "execution_count": 4,
     "metadata": {},
     "output_type": "execute_result"
    }
   ],
   "source": [
    "import numpy as np\n",
    "import math\n",
    "def my_is_prime(n):\n",
    "    if n ==2 or n==3:\n",
    "        out = 1\n",
    "        return out \n",
    "    nd = 0\n",
    "    for i in range(2,int(math.sqrt(n))+2):\n",
    "        if n%i ==0:\n",
    "            nd +=1\n",
    "    if nd == 0:\n",
    "        out =1\n",
    "    else:\n",
    "        out = 0\n",
    "    return out\n",
    "def my_n_fib_primes(n):\n",
    "    my_n_fibs_primes = []\n",
    "    fib_mat = np.array([[1,1],[1,0]])\n",
    "    j = 0;\n",
    "    f1 = 0\n",
    "    f2 = 1\n",
    "    while j <n:\n",
    "        f_mat_2 = fib_mat[0,:].dot(np.array([[f2],[f1]]))\n",
    "        f_mat_1 = fib_mat[1,:].dot(np.array([[f2],[f1]]))\n",
    "        f2 = f_mat_2[0]\n",
    "        f1 = f_mat_1[0]\n",
    "        if my_is_prime(f2)  and f1 != 1:\n",
    "            my_n_fibs_primes.append(f2)\n",
    "            j +=1\n",
    "    return my_n_fibs_primes\n",
    "my_n_fib_primes(8)"
   ]
  },
  {
   "cell_type": "code",
   "execution_count": 5,
   "id": "9273f474",
   "metadata": {},
   "outputs": [
    {
     "data": {
      "text/plain": [
       "[3, 5, 13]"
      ]
     },
     "execution_count": 5,
     "metadata": {},
     "output_type": "execute_result"
    }
   ],
   "source": [
    "my_n_fib_primes(3)"
   ]
  },
  {
   "cell_type": "markdown",
   "id": "65854dcc",
   "metadata": {},
   "source": [
    "### Q12"
   ]
  },
  {
   "cell_type": "code",
   "execution_count": 13,
   "id": "e8d26ec1",
   "metadata": {},
   "outputs": [
    {
     "data": {
      "text/plain": [
       "array([[0.8660254 , 0.70710678],\n",
       "       [0.8660254 , 0.43388374]])"
      ]
     },
     "execution_count": 13,
     "metadata": {},
     "output_type": "execute_result"
    }
   ],
   "source": [
    "import numpy as np\n",
    "from math import sin, cos\n",
    "def my_trig_odd_even(M):\n",
    "    Q = np.zeros([2,2])\n",
    "    for i in [0,1]:\n",
    "        for j in [0,1]:\n",
    "            if M[i,j]%2 ==0:\n",
    "                Q[i,j] = cos(np.pi/M[i,j])\n",
    "            else:\n",
    "                Q[i,j] = sin(np.pi/M[i,j])\n",
    "    return Q\n",
    "M = np.array([[3, 4], [6, 7]])\n",
    "my_trig_odd_even(M)"
   ]
  },
  {
   "cell_type": "code",
   "execution_count": 18,
   "id": "534e39ee",
   "metadata": {},
   "outputs": [
    {
     "data": {
      "text/plain": [
       "2"
      ]
     },
     "execution_count": 18,
     "metadata": {},
     "output_type": "execute_result"
    }
   ],
   "source": [
    "np.shape(M)[1]"
   ]
  },
  {
   "cell_type": "markdown",
   "id": "66548ccf",
   "metadata": {},
   "source": [
    "### Q13"
   ]
  },
  {
   "cell_type": "code",
   "execution_count": 34,
   "id": "9ea1eab5",
   "metadata": {},
   "outputs": [],
   "source": [
    "import numpy as np\n",
    "def my_connectivity_mat_2_dict(C, names):\n",
    "    node = {}\n",
    "    for i in range(np.shape(C)[0]):\n",
    "        rogue_list = []\n",
    "        for j in range(np.shape(C)[0]):\n",
    "            if C[i,j] == 1:\n",
    "                rogue_list.append(j+1)\n",
    "        node[names[i]] = rogue_list\n",
    "    return node"
   ]
  },
  {
   "cell_type": "code",
   "execution_count": 23,
   "id": "d1569c65",
   "metadata": {},
   "outputs": [],
   "source": [
    "C = np.array([[0, 1, 0, 1], [1, 0, 0, 1], [0, 0, 0, 1], [1, 1, 1, 0]])\n",
    "names = [\"Los Angeles\", \"New York\", \"Miami\", \"Dallas\"]"
   ]
  },
  {
   "cell_type": "code",
   "execution_count": 35,
   "id": "efe7c2ca",
   "metadata": {},
   "outputs": [
    {
     "data": {
      "text/plain": [
       "{'Los Angeles': [2, 4], 'New York': [1, 4], 'Miami': [4], 'Dallas': [1, 2, 3]}"
      ]
     },
     "execution_count": 35,
     "metadata": {},
     "output_type": "execute_result"
    }
   ],
   "source": [
    "my_connectivity_mat_2_dict(C, names)"
   ]
  },
  {
   "cell_type": "markdown",
   "id": "20483ed6",
   "metadata": {},
   "source": [
    "### Q14"
   ]
  },
  {
   "cell_type": "code",
   "execution_count": 38,
   "id": "259cb0ac",
   "metadata": {},
   "outputs": [],
   "source": [
    "def my_upper(L):\n",
    "    U = [i.upper() for i in L]\n",
    "    return U"
   ]
  },
  {
   "cell_type": "code",
   "execution_count": 39,
   "id": "ec78a937",
   "metadata": {},
   "outputs": [],
   "source": [
    "words = [\"test\", \"data\", \"analyze\"]"
   ]
  },
  {
   "cell_type": "code",
   "execution_count": 40,
   "id": "11a20db9",
   "metadata": {},
   "outputs": [
    {
     "data": {
      "text/plain": [
       "['TEST', 'DATA', 'ANALYZE']"
      ]
     },
     "execution_count": 40,
     "metadata": {},
     "output_type": "execute_result"
    }
   ],
   "source": [
    "my_upper(words)"
   ]
  }
 ],
 "metadata": {
  "kernelspec": {
   "display_name": "Python 3 (ipykernel)",
   "language": "python",
   "name": "python3"
  },
  "language_info": {
   "codemirror_mode": {
    "name": "ipython",
    "version": 3
   },
   "file_extension": ".py",
   "mimetype": "text/x-python",
   "name": "python",
   "nbconvert_exporter": "python",
   "pygments_lexer": "ipython3",
   "version": "3.10.6"
  }
 },
 "nbformat": 4,
 "nbformat_minor": 5
}
