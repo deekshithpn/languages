{
 "cells": [
  {
   "cell_type": "markdown",
   "id": "221ac9ab",
   "metadata": {},
   "source": [
    "# Logical Expressions:\n",
    "Statemets that can be either true or false.<br> \n",
    "The data type: BOOLEAN. <br>"
   ]
  },
  {
   "cell_type": "code",
   "execution_count": 1,
   "id": "33c0ef26",
   "metadata": {},
   "outputs": [
    {
     "data": {
      "text/plain": [
       "False"
      ]
     },
     "execution_count": 1,
     "metadata": {},
     "output_type": "execute_result"
    }
   ],
   "source": [
    "5==4"
   ]
  },
  {
   "cell_type": "code",
   "execution_count": 2,
   "id": "fd0eef96",
   "metadata": {},
   "outputs": [
    {
     "data": {
      "text/plain": [
       "True"
      ]
     },
     "execution_count": 2,
     "metadata": {},
     "output_type": "execute_result"
    }
   ],
   "source": [
    "2<3"
   ]
  },
  {
   "cell_type": "markdown",
   "id": "bb6a1b6d",
   "metadata": {},
   "source": [
    "## comparision operators, logical operators\n",
    "Logical operators : and, or, not <br>\n",
    "Comparision operators : >, <, ==, !=, <=, >= <br>\n",
    "\n"
   ]
  },
  {
   "cell_type": "code",
   "execution_count": null,
   "id": "69bf44c0",
   "metadata": {},
   "outputs": [],
   "source": []
  }
 ],
 "metadata": {
  "kernelspec": {
   "display_name": "Python 3 (ipykernel)",
   "language": "python",
   "name": "python3"
  },
  "language_info": {
   "codemirror_mode": {
    "name": "ipython",
    "version": 3
   },
   "file_extension": ".py",
   "mimetype": "text/x-python",
   "name": "python",
   "nbconvert_exporter": "python",
   "pygments_lexer": "ipython3",
   "version": "3.10.6"
  }
 },
 "nbformat": 4,
 "nbformat_minor": 5
}
